{
 "cells": [
  {
   "cell_type": "code",
   "execution_count": 1,
   "metadata": {},
   "outputs": [],
   "source": [
    "import pandas as pd\n",
    "import numpy as np\n",
    "import json\n",
    "import pickle"
   ]
  },
  {
   "cell_type": "markdown",
   "metadata": {},
   "source": [
    "## 1. The dataset for Amazon Review Electronics Product is available at Amazon\n",
    "## Reviews Dataset . Download the 5-core dataset for Electronics Category, under\n",
    "## the heading of Small subset for experimentation. Read the file to a dataframe.\n",
    "## Remember to keep the product metadata in a distinct dataframe as well."
   ]
  },
  {
   "cell_type": "code",
   "execution_count": null,
   "metadata": {},
   "outputs": [],
   "source": [
    "data = []\n",
    "\n",
    "with open('meta_Electronics.json', 'r') as file:\n",
    "    for line in file:\n",
    "        data.append(json.loads(line))\n",
    "df = pd.DataFrame(data)"
   ]
  },
  {
   "cell_type": "code",
   "execution_count": null,
   "metadata": {},
   "outputs": [],
   "source": [
    "print(df.shape)\n",
    "print()\n",
    "df.head()"
   ]
  },
  {
   "cell_type": "code",
   "execution_count": null,
   "metadata": {},
   "outputs": [],
   "source": [
    "df.columns"
   ]
  },
  {
   "cell_type": "code",
   "execution_count": null,
   "metadata": {},
   "outputs": [],
   "source": [
    "df['category'][0]"
   ]
  },
  {
   "cell_type": "code",
   "execution_count": null,
   "metadata": {},
   "outputs": [],
   "source": [
    "\n",
    "indexes = []\n",
    "for col in df.columns:\n",
    "    if df[col].dtype == 'object':\n",
    "        mask = df[col].astype(str).str.contains('headphones', case=False)\n",
    "        indexes.extend(df[mask].index)\n"
   ]
  },
  {
   "cell_type": "code",
   "execution_count": null,
   "metadata": {},
   "outputs": [],
   "source": [
    "indexes = list(set(indexes))\n",
    "df_headphones = df.loc[indexes].reset_index(drop = True)\n",
    "print(\"Rows where 'headphones occur:\")\n",
    "print()\n",
    "df_headphones.head()"
   ]
  },
  {
   "cell_type": "code",
   "execution_count": null,
   "metadata": {},
   "outputs": [],
   "source": [
    "import pickle\n",
    "df.to_pickle('metadata_df.pkl')\n",
    "metadata_df = pd.read_pickle('metadata_df.pkl')\n",
    "print(metadata_df.shape)\n",
    "print()\n",
    "metadata_df.head()"
   ]
  },
  {
   "cell_type": "code",
   "execution_count": 2,
   "metadata": {},
   "outputs": [
    {
     "name": "stdout",
     "output_type": "stream",
     "text": [
      "(6739590, 12)\n",
      "\n"
     ]
    },
    {
     "data": {
      "text/html": [
       "<div>\n",
       "<style scoped>\n",
       "    .dataframe tbody tr th:only-of-type {\n",
       "        vertical-align: middle;\n",
       "    }\n",
       "\n",
       "    .dataframe tbody tr th {\n",
       "        vertical-align: top;\n",
       "    }\n",
       "\n",
       "    .dataframe thead th {\n",
       "        text-align: right;\n",
       "    }\n",
       "</style>\n",
       "<table border=\"1\" class=\"dataframe\">\n",
       "  <thead>\n",
       "    <tr style=\"text-align: right;\">\n",
       "      <th></th>\n",
       "      <th>asin</th>\n",
       "      <th>image</th>\n",
       "      <th>overall</th>\n",
       "      <th>reviewText</th>\n",
       "      <th>reviewTime</th>\n",
       "      <th>reviewerID</th>\n",
       "      <th>reviewerName</th>\n",
       "      <th>style</th>\n",
       "      <th>summary</th>\n",
       "      <th>unixReviewTime</th>\n",
       "      <th>verified</th>\n",
       "      <th>vote</th>\n",
       "    </tr>\n",
       "  </thead>\n",
       "  <tbody>\n",
       "    <tr>\n",
       "      <th>0</th>\n",
       "      <td>0151004714</td>\n",
       "      <td>NaN</td>\n",
       "      <td>5.0</td>\n",
       "      <td>This is the best novel I have read in 2 or 3 y...</td>\n",
       "      <td>09 18, 1999</td>\n",
       "      <td>AAP7PPBU72QFM</td>\n",
       "      <td>D. C. Carrad</td>\n",
       "      <td>{'Format:': ' Hardcover'}</td>\n",
       "      <td>A star is born</td>\n",
       "      <td>937612800</td>\n",
       "      <td>True</td>\n",
       "      <td>67</td>\n",
       "    </tr>\n",
       "    <tr>\n",
       "      <th>1</th>\n",
       "      <td>0151004714</td>\n",
       "      <td>NaN</td>\n",
       "      <td>3.0</td>\n",
       "      <td>Pages and pages of introspection, in the style...</td>\n",
       "      <td>10 23, 2013</td>\n",
       "      <td>A2E168DTVGE6SV</td>\n",
       "      <td>Evy</td>\n",
       "      <td>{'Format:': ' Kindle Edition'}</td>\n",
       "      <td>A stream of consciousness novel</td>\n",
       "      <td>1382486400</td>\n",
       "      <td>True</td>\n",
       "      <td>5</td>\n",
       "    </tr>\n",
       "    <tr>\n",
       "      <th>2</th>\n",
       "      <td>0151004714</td>\n",
       "      <td>NaN</td>\n",
       "      <td>5.0</td>\n",
       "      <td>This is the kind of novel to read when you hav...</td>\n",
       "      <td>09 2, 2008</td>\n",
       "      <td>A1ER5AYS3FQ9O3</td>\n",
       "      <td>Kcorn</td>\n",
       "      <td>{'Format:': ' Paperback'}</td>\n",
       "      <td>I'm a huge fan of the author and this one did ...</td>\n",
       "      <td>1220313600</td>\n",
       "      <td>False</td>\n",
       "      <td>4</td>\n",
       "    </tr>\n",
       "    <tr>\n",
       "      <th>3</th>\n",
       "      <td>0151004714</td>\n",
       "      <td>NaN</td>\n",
       "      <td>5.0</td>\n",
       "      <td>What gorgeous language! What an incredible wri...</td>\n",
       "      <td>09 4, 2000</td>\n",
       "      <td>A1T17LMQABMBN5</td>\n",
       "      <td>Caf Girl Writes</td>\n",
       "      <td>{'Format:': ' Hardcover'}</td>\n",
       "      <td>The most beautiful book I have ever read!</td>\n",
       "      <td>968025600</td>\n",
       "      <td>False</td>\n",
       "      <td>13</td>\n",
       "    </tr>\n",
       "    <tr>\n",
       "      <th>4</th>\n",
       "      <td>0151004714</td>\n",
       "      <td>NaN</td>\n",
       "      <td>3.0</td>\n",
       "      <td>I was taken in by reviews that compared this b...</td>\n",
       "      <td>02 4, 2000</td>\n",
       "      <td>A3QHJ0FXK33OBE</td>\n",
       "      <td>W. Shane Schmidt</td>\n",
       "      <td>{'Format:': ' Hardcover'}</td>\n",
       "      <td>A dissenting view--In part.</td>\n",
       "      <td>949622400</td>\n",
       "      <td>True</td>\n",
       "      <td>8</td>\n",
       "    </tr>\n",
       "  </tbody>\n",
       "</table>\n",
       "</div>"
      ],
      "text/plain": [
       "         asin image  overall  \\\n",
       "0  0151004714   NaN      5.0   \n",
       "1  0151004714   NaN      3.0   \n",
       "2  0151004714   NaN      5.0   \n",
       "3  0151004714   NaN      5.0   \n",
       "4  0151004714   NaN      3.0   \n",
       "\n",
       "                                          reviewText   reviewTime  \\\n",
       "0  This is the best novel I have read in 2 or 3 y...  09 18, 1999   \n",
       "1  Pages and pages of introspection, in the style...  10 23, 2013   \n",
       "2  This is the kind of novel to read when you hav...   09 2, 2008   \n",
       "3  What gorgeous language! What an incredible wri...   09 4, 2000   \n",
       "4  I was taken in by reviews that compared this b...   02 4, 2000   \n",
       "\n",
       "       reviewerID      reviewerName                           style  \\\n",
       "0   AAP7PPBU72QFM      D. C. Carrad       {'Format:': ' Hardcover'}   \n",
       "1  A2E168DTVGE6SV               Evy  {'Format:': ' Kindle Edition'}   \n",
       "2  A1ER5AYS3FQ9O3             Kcorn       {'Format:': ' Paperback'}   \n",
       "3  A1T17LMQABMBN5   Caf Girl Writes       {'Format:': ' Hardcover'}   \n",
       "4  A3QHJ0FXK33OBE  W. Shane Schmidt       {'Format:': ' Hardcover'}   \n",
       "\n",
       "                                             summary  unixReviewTime  \\\n",
       "0                                     A star is born       937612800   \n",
       "1                    A stream of consciousness novel      1382486400   \n",
       "2  I'm a huge fan of the author and this one did ...      1220313600   \n",
       "3          The most beautiful book I have ever read!       968025600   \n",
       "4                        A dissenting view--In part.       949622400   \n",
       "\n",
       "   verified vote  \n",
       "0      True   67  \n",
       "1      True    5  \n",
       "2     False    4  \n",
       "3     False   13  \n",
       "4      True    8  "
      ]
     },
     "execution_count": 2,
     "metadata": {},
     "output_type": "execute_result"
    }
   ],
   "source": [
    "metadata_df = pd.read_pickle('metadata_df.pkl')\n",
    "print(metadata_df.shape)\n",
    "print()\n",
    "metadata_df.head()"
   ]
  },
  {
   "cell_type": "code",
   "execution_count": null,
   "metadata": {},
   "outputs": [],
   "source": [
    "df_headphones.to_pickle('metadata_df_headphones.pkl')\n"
   ]
  },
  {
   "cell_type": "code",
   "execution_count": 3,
   "metadata": {},
   "outputs": [
    {
     "name": "stdout",
     "output_type": "stream",
     "text": [
      "(46620, 19)\n",
      "\n"
     ]
    },
    {
     "data": {
      "text/html": [
       "<div>\n",
       "<style scoped>\n",
       "    .dataframe tbody tr th:only-of-type {\n",
       "        vertical-align: middle;\n",
       "    }\n",
       "\n",
       "    .dataframe tbody tr th {\n",
       "        vertical-align: top;\n",
       "    }\n",
       "\n",
       "    .dataframe thead th {\n",
       "        text-align: right;\n",
       "    }\n",
       "</style>\n",
       "<table border=\"1\" class=\"dataframe\">\n",
       "  <thead>\n",
       "    <tr style=\"text-align: right;\">\n",
       "      <th></th>\n",
       "      <th>also_buy</th>\n",
       "      <th>also_view</th>\n",
       "      <th>asin</th>\n",
       "      <th>brand</th>\n",
       "      <th>category</th>\n",
       "      <th>date</th>\n",
       "      <th>description</th>\n",
       "      <th>details</th>\n",
       "      <th>feature</th>\n",
       "      <th>fit</th>\n",
       "      <th>imageURL</th>\n",
       "      <th>imageURLHighRes</th>\n",
       "      <th>main_cat</th>\n",
       "      <th>price</th>\n",
       "      <th>rank</th>\n",
       "      <th>similar_item</th>\n",
       "      <th>tech1</th>\n",
       "      <th>tech2</th>\n",
       "      <th>title</th>\n",
       "    </tr>\n",
       "  </thead>\n",
       "  <tbody>\n",
       "    <tr>\n",
       "      <th>0</th>\n",
       "      <td>[]</td>\n",
       "      <td>[]</td>\n",
       "      <td>B005V3IYHM</td>\n",
       "      <td>MyNetDeals</td>\n",
       "      <td>[Electronics, Headphones]</td>\n",
       "      <td></td>\n",
       "      <td>[* Answer/end / reject a call * Call redial, V...</td>\n",
       "      <td>{}</td>\n",
       "      <td>[Bluetooth Ver 2.1 + EDR. Compatible with all ...</td>\n",
       "      <td></td>\n",
       "      <td>[https://images-na.ssl-images-amazon.com/image...</td>\n",
       "      <td>[https://images-na.ssl-images-amazon.com/image...</td>\n",
       "      <td>Cell Phones &amp; Accessories</td>\n",
       "      <td></td>\n",
       "      <td>[&gt;#5,689,866 in Cell Phones &amp; Accessories (See...</td>\n",
       "      <td></td>\n",
       "      <td></td>\n",
       "      <td></td>\n",
       "      <td>Stylish Wireless Stereo Bluetooth Headset/ Hea...</td>\n",
       "    </tr>\n",
       "    <tr>\n",
       "      <th>1</th>\n",
       "      <td>[]</td>\n",
       "      <td>[B003NSBKSW, B00KQOZA1Y, B07C7HNH88, B01I3YP7U...</td>\n",
       "      <td>B00DIUGW6A</td>\n",
       "      <td>Shure</td>\n",
       "      <td>[Electronics, Headphones, Earbud Headphones]</td>\n",
       "      <td>June 21, 2013</td>\n",
       "      <td>[Evolved from personal monitor technology road...</td>\n",
       "      <td>{}</td>\n",
       "      <td>[Quad Hi-Definition MicroDrivers: For extended...</td>\n",
       "      <td></td>\n",
       "      <td>[https://images-na.ssl-images-amazon.com/image...</td>\n",
       "      <td>[https://images-na.ssl-images-amazon.com/image...</td>\n",
       "      <td>All Electronics</td>\n",
       "      <td>$28.01</td>\n",
       "      <td>[&gt;#80,130 in Cell Phones &amp; Accessories (See To...</td>\n",
       "      <td>class=\"a-bordered a-horizontal-stripes  a-spa...</td>\n",
       "      <td></td>\n",
       "      <td></td>\n",
       "      <td>Shure SE846-CL Sound Isolating Earphones with ...</td>\n",
       "    </tr>\n",
       "    <tr>\n",
       "      <th>2</th>\n",
       "      <td>[]</td>\n",
       "      <td>[]</td>\n",
       "      <td>B005V3J3FE</td>\n",
       "      <td>MyNetDeals</td>\n",
       "      <td>[Electronics, Headphones]</td>\n",
       "      <td>&lt;/div&gt;</td>\n",
       "      <td>[]</td>\n",
       "      <td>{'ASIN:': 'B005V3J3FE', ' Date first listed on...</td>\n",
       "      <td>[Bluetooth Ver 2.1 + EDR. Compatible with all ...</td>\n",
       "      <td></td>\n",
       "      <td>[https://images-na.ssl-images-amazon.com/image...</td>\n",
       "      <td>[https://images-na.ssl-images-amazon.com/image...</td>\n",
       "      <td>Amazon Devices</td>\n",
       "      <td></td>\n",
       "      <td>1,651,594 in Cell Phones &amp; Accessories (</td>\n",
       "      <td></td>\n",
       "      <td></td>\n",
       "      <td></td>\n",
       "      <td>Stylish Wireless Stereo Bluetooth Headset/ Hea...</td>\n",
       "    </tr>\n",
       "    <tr>\n",
       "      <th>3</th>\n",
       "      <td>[]</td>\n",
       "      <td>[]</td>\n",
       "      <td>B00DIW2YJM</td>\n",
       "      <td>INVELLOP</td>\n",
       "      <td>[Electronics, Computers &amp; Accessories, Tablet ...</td>\n",
       "      <td>June 21, 2013</td>\n",
       "      <td>[Our highly favored Samsung Galaxy Tab 3 10.1 ...</td>\n",
       "      <td>{}</td>\n",
       "      <td>[Magnetic strip built inside for secure closur...</td>\n",
       "      <td></td>\n",
       "      <td>[https://images-na.ssl-images-amazon.com/image...</td>\n",
       "      <td>[https://images-na.ssl-images-amazon.com/image...</td>\n",
       "      <td>Computers</td>\n",
       "      <td></td>\n",
       "      <td>[&gt;#66,794 in Electronics &gt; Computers &amp; Accesso...</td>\n",
       "      <td></td>\n",
       "      <td></td>\n",
       "      <td></td>\n",
       "      <td>INVELLOP Black Leatherette Case Cover for Sams...</td>\n",
       "    </tr>\n",
       "    <tr>\n",
       "      <th>4</th>\n",
       "      <td>[]</td>\n",
       "      <td>[B00IHJII4Q]</td>\n",
       "      <td>B00M7NIZ3W</td>\n",
       "      <td>Jarv</td>\n",
       "      <td>[Electronics, Headphones]</td>\n",
       "      <td></td>\n",
       "      <td>[NMotion Earbud Features : Bluetooth 4.0 Stere...</td>\n",
       "      <td>{}</td>\n",
       "      <td>[Bluetooth 4.0 stereo earbuds with in-line mic...</td>\n",
       "      <td></td>\n",
       "      <td>[https://images-na.ssl-images-amazon.com/image...</td>\n",
       "      <td>[https://images-na.ssl-images-amazon.com/image...</td>\n",
       "      <td>Cell Phones &amp; Accessories</td>\n",
       "      <td></td>\n",
       "      <td>[&gt;#414,519 in Cell Phones &amp; Accessories (See T...</td>\n",
       "      <td></td>\n",
       "      <td></td>\n",
       "      <td></td>\n",
       "      <td>Jarv NMotion Wireless Bluetooth 4.0 Stereo Ear...</td>\n",
       "    </tr>\n",
       "  </tbody>\n",
       "</table>\n",
       "</div>"
      ],
      "text/plain": [
       "  also_buy                                          also_view        asin  \\\n",
       "0       []                                                 []  B005V3IYHM   \n",
       "1       []  [B003NSBKSW, B00KQOZA1Y, B07C7HNH88, B01I3YP7U...  B00DIUGW6A   \n",
       "2       []                                                 []  B005V3J3FE   \n",
       "3       []                                                 []  B00DIW2YJM   \n",
       "4       []                                       [B00IHJII4Q]  B00M7NIZ3W   \n",
       "\n",
       "        brand                                           category  \\\n",
       "0  MyNetDeals                          [Electronics, Headphones]   \n",
       "1       Shure       [Electronics, Headphones, Earbud Headphones]   \n",
       "2  MyNetDeals                          [Electronics, Headphones]   \n",
       "3    INVELLOP  [Electronics, Computers & Accessories, Tablet ...   \n",
       "4        Jarv                          [Electronics, Headphones]   \n",
       "\n",
       "            date                                        description  \\\n",
       "0                 [* Answer/end / reject a call * Call redial, V...   \n",
       "1  June 21, 2013  [Evolved from personal monitor technology road...   \n",
       "2         </div>                                                 []   \n",
       "3  June 21, 2013  [Our highly favored Samsung Galaxy Tab 3 10.1 ...   \n",
       "4                 [NMotion Earbud Features : Bluetooth 4.0 Stere...   \n",
       "\n",
       "                                             details  \\\n",
       "0                                                 {}   \n",
       "1                                                 {}   \n",
       "2  {'ASIN:': 'B005V3J3FE', ' Date first listed on...   \n",
       "3                                                 {}   \n",
       "4                                                 {}   \n",
       "\n",
       "                                             feature fit  \\\n",
       "0  [Bluetooth Ver 2.1 + EDR. Compatible with all ...       \n",
       "1  [Quad Hi-Definition MicroDrivers: For extended...       \n",
       "2  [Bluetooth Ver 2.1 + EDR. Compatible with all ...       \n",
       "3  [Magnetic strip built inside for secure closur...       \n",
       "4  [Bluetooth 4.0 stereo earbuds with in-line mic...       \n",
       "\n",
       "                                            imageURL  \\\n",
       "0  [https://images-na.ssl-images-amazon.com/image...   \n",
       "1  [https://images-na.ssl-images-amazon.com/image...   \n",
       "2  [https://images-na.ssl-images-amazon.com/image...   \n",
       "3  [https://images-na.ssl-images-amazon.com/image...   \n",
       "4  [https://images-na.ssl-images-amazon.com/image...   \n",
       "\n",
       "                                     imageURLHighRes  \\\n",
       "0  [https://images-na.ssl-images-amazon.com/image...   \n",
       "1  [https://images-na.ssl-images-amazon.com/image...   \n",
       "2  [https://images-na.ssl-images-amazon.com/image...   \n",
       "3  [https://images-na.ssl-images-amazon.com/image...   \n",
       "4  [https://images-na.ssl-images-amazon.com/image...   \n",
       "\n",
       "                    main_cat   price  \\\n",
       "0  Cell Phones & Accessories           \n",
       "1            All Electronics  $28.01   \n",
       "2             Amazon Devices           \n",
       "3                  Computers           \n",
       "4  Cell Phones & Accessories           \n",
       "\n",
       "                                                rank  \\\n",
       "0  [>#5,689,866 in Cell Phones & Accessories (See...   \n",
       "1  [>#80,130 in Cell Phones & Accessories (See To...   \n",
       "2           1,651,594 in Cell Phones & Accessories (   \n",
       "3  [>#66,794 in Electronics > Computers & Accesso...   \n",
       "4  [>#414,519 in Cell Phones & Accessories (See T...   \n",
       "\n",
       "                                        similar_item tech1 tech2  \\\n",
       "0                                                                  \n",
       "1   class=\"a-bordered a-horizontal-stripes  a-spa...               \n",
       "2                                                                  \n",
       "3                                                                  \n",
       "4                                                                  \n",
       "\n",
       "                                               title  \n",
       "0  Stylish Wireless Stereo Bluetooth Headset/ Hea...  \n",
       "1  Shure SE846-CL Sound Isolating Earphones with ...  \n",
       "2  Stylish Wireless Stereo Bluetooth Headset/ Hea...  \n",
       "3  INVELLOP Black Leatherette Case Cover for Sams...  \n",
       "4  Jarv NMotion Wireless Bluetooth 4.0 Stereo Ear...  "
      ]
     },
     "execution_count": 3,
     "metadata": {},
     "output_type": "execute_result"
    }
   ],
   "source": [
    "metadata_df_headphones = pd.read_pickle('metadata_df_headphones.pkl')\n",
    "print(metadata_df_headphones.shape)\n",
    "print()\n",
    "metadata_df_headphones.head()"
   ]
  },
  {
   "cell_type": "code",
   "execution_count": null,
   "metadata": {},
   "outputs": [],
   "source": [
    "metadata_df_headphones.isnull().sum()"
   ]
  },
  {
   "cell_type": "code",
   "execution_count": null,
   "metadata": {},
   "outputs": [],
   "source": [
    "metadata_df_headphones['brand'].nunique()"
   ]
  },
  {
   "cell_type": "code",
   "execution_count": null,
   "metadata": {},
   "outputs": [],
   "source": [
    "import json\n",
    "data = []\n",
    "with open('Electronics_5.json', 'r') as file:\n",
    "    for line in file:\n",
    "        data.append(json.loads(line))\n",
    "df = pd.DataFrame(data)"
   ]
  },
  {
   "cell_type": "code",
   "execution_count": null,
   "metadata": {},
   "outputs": [],
   "source": [
    "print(df.shape)\n",
    "print()\n",
    "df.head()"
   ]
  },
  {
   "cell_type": "code",
   "execution_count": null,
   "metadata": {},
   "outputs": [],
   "source": [
    "df.isnull().sum()"
   ]
  },
  {
   "cell_type": "code",
   "execution_count": null,
   "metadata": {},
   "outputs": [],
   "source": [
    "df.to_pickle('electronics_df.pkl')"
   ]
  },
  {
   "cell_type": "code",
   "execution_count": 4,
   "metadata": {},
   "outputs": [
    {
     "name": "stdout",
     "output_type": "stream",
     "text": [
      "(6739590, 12)\n",
      "\n"
     ]
    },
    {
     "data": {
      "text/html": [
       "<div>\n",
       "<style scoped>\n",
       "    .dataframe tbody tr th:only-of-type {\n",
       "        vertical-align: middle;\n",
       "    }\n",
       "\n",
       "    .dataframe tbody tr th {\n",
       "        vertical-align: top;\n",
       "    }\n",
       "\n",
       "    .dataframe thead th {\n",
       "        text-align: right;\n",
       "    }\n",
       "</style>\n",
       "<table border=\"1\" class=\"dataframe\">\n",
       "  <thead>\n",
       "    <tr style=\"text-align: right;\">\n",
       "      <th></th>\n",
       "      <th>asin</th>\n",
       "      <th>image</th>\n",
       "      <th>overall</th>\n",
       "      <th>reviewText</th>\n",
       "      <th>reviewTime</th>\n",
       "      <th>reviewerID</th>\n",
       "      <th>reviewerName</th>\n",
       "      <th>style</th>\n",
       "      <th>summary</th>\n",
       "      <th>unixReviewTime</th>\n",
       "      <th>verified</th>\n",
       "      <th>vote</th>\n",
       "    </tr>\n",
       "  </thead>\n",
       "  <tbody>\n",
       "    <tr>\n",
       "      <th>0</th>\n",
       "      <td>0151004714</td>\n",
       "      <td>NaN</td>\n",
       "      <td>5.0</td>\n",
       "      <td>This is the best novel I have read in 2 or 3 y...</td>\n",
       "      <td>09 18, 1999</td>\n",
       "      <td>AAP7PPBU72QFM</td>\n",
       "      <td>D. C. Carrad</td>\n",
       "      <td>{'Format:': ' Hardcover'}</td>\n",
       "      <td>A star is born</td>\n",
       "      <td>937612800</td>\n",
       "      <td>True</td>\n",
       "      <td>67</td>\n",
       "    </tr>\n",
       "    <tr>\n",
       "      <th>1</th>\n",
       "      <td>0151004714</td>\n",
       "      <td>NaN</td>\n",
       "      <td>3.0</td>\n",
       "      <td>Pages and pages of introspection, in the style...</td>\n",
       "      <td>10 23, 2013</td>\n",
       "      <td>A2E168DTVGE6SV</td>\n",
       "      <td>Evy</td>\n",
       "      <td>{'Format:': ' Kindle Edition'}</td>\n",
       "      <td>A stream of consciousness novel</td>\n",
       "      <td>1382486400</td>\n",
       "      <td>True</td>\n",
       "      <td>5</td>\n",
       "    </tr>\n",
       "    <tr>\n",
       "      <th>2</th>\n",
       "      <td>0151004714</td>\n",
       "      <td>NaN</td>\n",
       "      <td>5.0</td>\n",
       "      <td>This is the kind of novel to read when you hav...</td>\n",
       "      <td>09 2, 2008</td>\n",
       "      <td>A1ER5AYS3FQ9O3</td>\n",
       "      <td>Kcorn</td>\n",
       "      <td>{'Format:': ' Paperback'}</td>\n",
       "      <td>I'm a huge fan of the author and this one did ...</td>\n",
       "      <td>1220313600</td>\n",
       "      <td>False</td>\n",
       "      <td>4</td>\n",
       "    </tr>\n",
       "    <tr>\n",
       "      <th>3</th>\n",
       "      <td>0151004714</td>\n",
       "      <td>NaN</td>\n",
       "      <td>5.0</td>\n",
       "      <td>What gorgeous language! What an incredible wri...</td>\n",
       "      <td>09 4, 2000</td>\n",
       "      <td>A1T17LMQABMBN5</td>\n",
       "      <td>Caf Girl Writes</td>\n",
       "      <td>{'Format:': ' Hardcover'}</td>\n",
       "      <td>The most beautiful book I have ever read!</td>\n",
       "      <td>968025600</td>\n",
       "      <td>False</td>\n",
       "      <td>13</td>\n",
       "    </tr>\n",
       "    <tr>\n",
       "      <th>4</th>\n",
       "      <td>0151004714</td>\n",
       "      <td>NaN</td>\n",
       "      <td>3.0</td>\n",
       "      <td>I was taken in by reviews that compared this b...</td>\n",
       "      <td>02 4, 2000</td>\n",
       "      <td>A3QHJ0FXK33OBE</td>\n",
       "      <td>W. Shane Schmidt</td>\n",
       "      <td>{'Format:': ' Hardcover'}</td>\n",
       "      <td>A dissenting view--In part.</td>\n",
       "      <td>949622400</td>\n",
       "      <td>True</td>\n",
       "      <td>8</td>\n",
       "    </tr>\n",
       "  </tbody>\n",
       "</table>\n",
       "</div>"
      ],
      "text/plain": [
       "         asin image  overall  \\\n",
       "0  0151004714   NaN      5.0   \n",
       "1  0151004714   NaN      3.0   \n",
       "2  0151004714   NaN      5.0   \n",
       "3  0151004714   NaN      5.0   \n",
       "4  0151004714   NaN      3.0   \n",
       "\n",
       "                                          reviewText   reviewTime  \\\n",
       "0  This is the best novel I have read in 2 or 3 y...  09 18, 1999   \n",
       "1  Pages and pages of introspection, in the style...  10 23, 2013   \n",
       "2  This is the kind of novel to read when you hav...   09 2, 2008   \n",
       "3  What gorgeous language! What an incredible wri...   09 4, 2000   \n",
       "4  I was taken in by reviews that compared this b...   02 4, 2000   \n",
       "\n",
       "       reviewerID      reviewerName                           style  \\\n",
       "0   AAP7PPBU72QFM      D. C. Carrad       {'Format:': ' Hardcover'}   \n",
       "1  A2E168DTVGE6SV               Evy  {'Format:': ' Kindle Edition'}   \n",
       "2  A1ER5AYS3FQ9O3             Kcorn       {'Format:': ' Paperback'}   \n",
       "3  A1T17LMQABMBN5   Caf Girl Writes       {'Format:': ' Hardcover'}   \n",
       "4  A3QHJ0FXK33OBE  W. Shane Schmidt       {'Format:': ' Hardcover'}   \n",
       "\n",
       "                                             summary  unixReviewTime  \\\n",
       "0                                     A star is born       937612800   \n",
       "1                    A stream of consciousness novel      1382486400   \n",
       "2  I'm a huge fan of the author and this one did ...      1220313600   \n",
       "3          The most beautiful book I have ever read!       968025600   \n",
       "4                        A dissenting view--In part.       949622400   \n",
       "\n",
       "   verified vote  \n",
       "0      True   67  \n",
       "1      True    5  \n",
       "2     False    4  \n",
       "3     False   13  \n",
       "4      True    8  "
      ]
     },
     "execution_count": 4,
     "metadata": {},
     "output_type": "execute_result"
    }
   ],
   "source": [
    "df = pd.read_pickle('electronics_df.pkl')\n",
    "print(df.shape)\n",
    "print()\n",
    "df.head()"
   ]
  },
  {
   "cell_type": "code",
   "execution_count": null,
   "metadata": {},
   "outputs": [],
   "source": [
    "df.columns"
   ]
  },
  {
   "cell_type": "code",
   "execution_count": 5,
   "metadata": {},
   "outputs": [
    {
     "data": {
      "text/plain": [
       "Index(['asin', 'overall', 'reviewText', 'style', 'reviewerID',\n",
       "       'unixReviewTime'],\n",
       "      dtype='object')"
      ]
     },
     "execution_count": 5,
     "metadata": {},
     "output_type": "execute_result"
    }
   ],
   "source": [
    "e_df = df[['asin', 'overall', 'reviewText', 'style', 'reviewerID', 'unixReviewTime']]\n",
    "e_df.columns"
   ]
  },
  {
   "cell_type": "code",
   "execution_count": 6,
   "metadata": {},
   "outputs": [
    {
     "name": "stderr",
     "output_type": "stream",
     "text": [
      "/home/orchid/anaconda3/lib/python3.7/site-packages/ipykernel_launcher.py:9: SettingWithCopyWarning: \n",
      "A value is trying to be set on a copy of a slice from a DataFrame.\n",
      "Try using .loc[row_indexer,col_indexer] = value instead\n",
      "\n",
      "See the caveats in the documentation: http://pandas.pydata.org/pandas-docs/stable/indexing.html#indexing-view-versus-copy\n",
      "  if __name__ == '__main__':\n"
     ]
    },
    {
     "data": {
      "text/html": [
       "<div>\n",
       "<style scoped>\n",
       "    .dataframe tbody tr th:only-of-type {\n",
       "        vertical-align: middle;\n",
       "    }\n",
       "\n",
       "    .dataframe tbody tr th {\n",
       "        vertical-align: top;\n",
       "    }\n",
       "\n",
       "    .dataframe thead th {\n",
       "        text-align: right;\n",
       "    }\n",
       "</style>\n",
       "<table border=\"1\" class=\"dataframe\">\n",
       "  <thead>\n",
       "    <tr style=\"text-align: right;\">\n",
       "      <th></th>\n",
       "      <th>asin</th>\n",
       "      <th>overall</th>\n",
       "      <th>reviewText</th>\n",
       "      <th>style</th>\n",
       "      <th>reviewerID</th>\n",
       "      <th>unixReviewTime</th>\n",
       "      <th>format</th>\n",
       "    </tr>\n",
       "  </thead>\n",
       "  <tbody>\n",
       "    <tr>\n",
       "      <th>0</th>\n",
       "      <td>0151004714</td>\n",
       "      <td>5.0</td>\n",
       "      <td>This is the best novel I have read in 2 or 3 y...</td>\n",
       "      <td>{'Format:': ' Hardcover'}</td>\n",
       "      <td>AAP7PPBU72QFM</td>\n",
       "      <td>937612800</td>\n",
       "      <td>Hardcover</td>\n",
       "    </tr>\n",
       "    <tr>\n",
       "      <th>1</th>\n",
       "      <td>0151004714</td>\n",
       "      <td>3.0</td>\n",
       "      <td>Pages and pages of introspection, in the style...</td>\n",
       "      <td>{'Format:': ' Kindle Edition'}</td>\n",
       "      <td>A2E168DTVGE6SV</td>\n",
       "      <td>1382486400</td>\n",
       "      <td>Kindle Edition</td>\n",
       "    </tr>\n",
       "    <tr>\n",
       "      <th>2</th>\n",
       "      <td>0151004714</td>\n",
       "      <td>5.0</td>\n",
       "      <td>This is the kind of novel to read when you hav...</td>\n",
       "      <td>{'Format:': ' Paperback'}</td>\n",
       "      <td>A1ER5AYS3FQ9O3</td>\n",
       "      <td>1220313600</td>\n",
       "      <td>Paperback</td>\n",
       "    </tr>\n",
       "    <tr>\n",
       "      <th>3</th>\n",
       "      <td>0151004714</td>\n",
       "      <td>5.0</td>\n",
       "      <td>What gorgeous language! What an incredible wri...</td>\n",
       "      <td>{'Format:': ' Hardcover'}</td>\n",
       "      <td>A1T17LMQABMBN5</td>\n",
       "      <td>968025600</td>\n",
       "      <td>Hardcover</td>\n",
       "    </tr>\n",
       "    <tr>\n",
       "      <th>4</th>\n",
       "      <td>0151004714</td>\n",
       "      <td>3.0</td>\n",
       "      <td>I was taken in by reviews that compared this b...</td>\n",
       "      <td>{'Format:': ' Hardcover'}</td>\n",
       "      <td>A3QHJ0FXK33OBE</td>\n",
       "      <td>949622400</td>\n",
       "      <td>Hardcover</td>\n",
       "    </tr>\n",
       "  </tbody>\n",
       "</table>\n",
       "</div>"
      ],
      "text/plain": [
       "         asin  overall                                         reviewText  \\\n",
       "0  0151004714      5.0  This is the best novel I have read in 2 or 3 y...   \n",
       "1  0151004714      3.0  Pages and pages of introspection, in the style...   \n",
       "2  0151004714      5.0  This is the kind of novel to read when you hav...   \n",
       "3  0151004714      5.0  What gorgeous language! What an incredible wri...   \n",
       "4  0151004714      3.0  I was taken in by reviews that compared this b...   \n",
       "\n",
       "                            style      reviewerID  unixReviewTime  \\\n",
       "0       {'Format:': ' Hardcover'}   AAP7PPBU72QFM       937612800   \n",
       "1  {'Format:': ' Kindle Edition'}  A2E168DTVGE6SV      1382486400   \n",
       "2       {'Format:': ' Paperback'}  A1ER5AYS3FQ9O3      1220313600   \n",
       "3       {'Format:': ' Hardcover'}  A1T17LMQABMBN5       968025600   \n",
       "4       {'Format:': ' Hardcover'}  A3QHJ0FXK33OBE       949622400   \n",
       "\n",
       "            format  \n",
       "0        Hardcover  \n",
       "1   Kindle Edition  \n",
       "2        Paperback  \n",
       "3        Hardcover  \n",
       "4        Hardcover  "
      ]
     },
     "execution_count": 6,
     "metadata": {},
     "output_type": "execute_result"
    }
   ],
   "source": [
    "def extract_format(style_dict):\n",
    "    if isinstance(style_dict, dict) and 'Format:' in style_dict:\n",
    "        return style_dict['Format:']\n",
    "    else:\n",
    "        return None\n",
    "e_df['format'] = e_df['style'].apply(extract_format)\n",
    "e_df.head()"
   ]
  },
  {
   "cell_type": "code",
   "execution_count": null,
   "metadata": {},
   "outputs": [],
   "source": [
    "sum(e_df['format']== 'headphones')"
   ]
  },
  {
   "cell_type": "markdown",
   "metadata": {},
   "source": [
    "## # 2. Choose a product of your choice. Let's say ‘Headphones’."
   ]
  },
  {
   "cell_type": "code",
   "execution_count": 7,
   "metadata": {},
   "outputs": [],
   "source": [
    "final_headphones = e_df[e_df[['asin']].isin(metadata_df_headphones['asin'].values).all(axis=1)].reset_index(drop = True)"
   ]
  },
  {
   "cell_type": "code",
   "execution_count": 8,
   "metadata": {},
   "outputs": [
    {
     "name": "stdout",
     "output_type": "stream",
     "text": [
      "(643077, 7)\n",
      "\n"
     ]
    },
    {
     "data": {
      "text/html": [
       "<div>\n",
       "<style scoped>\n",
       "    .dataframe tbody tr th:only-of-type {\n",
       "        vertical-align: middle;\n",
       "    }\n",
       "\n",
       "    .dataframe tbody tr th {\n",
       "        vertical-align: top;\n",
       "    }\n",
       "\n",
       "    .dataframe thead th {\n",
       "        text-align: right;\n",
       "    }\n",
       "</style>\n",
       "<table border=\"1\" class=\"dataframe\">\n",
       "  <thead>\n",
       "    <tr style=\"text-align: right;\">\n",
       "      <th></th>\n",
       "      <th>asin</th>\n",
       "      <th>overall</th>\n",
       "      <th>reviewText</th>\n",
       "      <th>style</th>\n",
       "      <th>reviewerID</th>\n",
       "      <th>unixReviewTime</th>\n",
       "      <th>format</th>\n",
       "    </tr>\n",
       "  </thead>\n",
       "  <tbody>\n",
       "    <tr>\n",
       "      <th>0</th>\n",
       "      <td>4126895493</td>\n",
       "      <td>5.0</td>\n",
       "      <td>Great headphones. It's just the cord is too sh...</td>\n",
       "      <td>{'Color:': ' Blue W/Mic'}</td>\n",
       "      <td>A38RQFVQ1AKJQQ</td>\n",
       "      <td>1424563200</td>\n",
       "      <td>None</td>\n",
       "    </tr>\n",
       "    <tr>\n",
       "      <th>1</th>\n",
       "      <td>4126895493</td>\n",
       "      <td>5.0</td>\n",
       "      <td>Really like these headphone.  Wanted something...</td>\n",
       "      <td>{'Color:': ' Blue Zebra W/Mic'}</td>\n",
       "      <td>A299MRB9O6GWDE</td>\n",
       "      <td>1494201600</td>\n",
       "      <td>None</td>\n",
       "    </tr>\n",
       "    <tr>\n",
       "      <th>2</th>\n",
       "      <td>4126895493</td>\n",
       "      <td>1.0</td>\n",
       "      <td>Wire to headphone broke off in less than a mon...</td>\n",
       "      <td>{'Color:': ' Blue W/Mic'}</td>\n",
       "      <td>A3ACFC6DQQLIQT</td>\n",
       "      <td>1478304000</td>\n",
       "      <td>None</td>\n",
       "    </tr>\n",
       "    <tr>\n",
       "      <th>3</th>\n",
       "      <td>4126895493</td>\n",
       "      <td>3.0</td>\n",
       "      <td>Very good</td>\n",
       "      <td>{'Color:': ' Green'}</td>\n",
       "      <td>A36BC0YFDBNB5X</td>\n",
       "      <td>1474675200</td>\n",
       "      <td>None</td>\n",
       "    </tr>\n",
       "    <tr>\n",
       "      <th>4</th>\n",
       "      <td>4126895493</td>\n",
       "      <td>1.0</td>\n",
       "      <td>Currently returning this product because the s...</td>\n",
       "      <td>{'Color:': ' Violet Purple'}</td>\n",
       "      <td>A212PQ0HQPNNWM</td>\n",
       "      <td>1468713600</td>\n",
       "      <td>None</td>\n",
       "    </tr>\n",
       "  </tbody>\n",
       "</table>\n",
       "</div>"
      ],
      "text/plain": [
       "         asin  overall                                         reviewText  \\\n",
       "0  4126895493      5.0  Great headphones. It's just the cord is too sh...   \n",
       "1  4126895493      5.0  Really like these headphone.  Wanted something...   \n",
       "2  4126895493      1.0  Wire to headphone broke off in less than a mon...   \n",
       "3  4126895493      3.0                                          Very good   \n",
       "4  4126895493      1.0  Currently returning this product because the s...   \n",
       "\n",
       "                             style      reviewerID  unixReviewTime format  \n",
       "0        {'Color:': ' Blue W/Mic'}  A38RQFVQ1AKJQQ      1424563200   None  \n",
       "1  {'Color:': ' Blue Zebra W/Mic'}  A299MRB9O6GWDE      1494201600   None  \n",
       "2        {'Color:': ' Blue W/Mic'}  A3ACFC6DQQLIQT      1478304000   None  \n",
       "3             {'Color:': ' Green'}  A36BC0YFDBNB5X      1474675200   None  \n",
       "4     {'Color:': ' Violet Purple'}  A212PQ0HQPNNWM      1468713600   None  "
      ]
     },
     "execution_count": 8,
     "metadata": {},
     "output_type": "execute_result"
    }
   ],
   "source": [
    "print(final_headphones.shape)\n",
    "print()\n",
    "final_headphones.head()"
   ]
  },
  {
   "cell_type": "code",
   "execution_count": 9,
   "metadata": {},
   "outputs": [
    {
     "data": {
      "text/plain": [
       "asin                   0\n",
       "overall                0\n",
       "reviewText            97\n",
       "style             239659\n",
       "reviewerID             0\n",
       "unixReviewTime         0\n",
       "format            638194\n",
       "dtype: int64"
      ]
     },
     "execution_count": 9,
     "metadata": {},
     "output_type": "execute_result"
    }
   ],
   "source": [
    "final_headphones.isnull().sum()"
   ]
  },
  {
   "cell_type": "code",
   "execution_count": 16,
   "metadata": {},
   "outputs": [],
   "source": [
    "test_headphones = final_headphones\n",
    "test_headphones['style'] = test_headphones['style'].astype('str')\n",
    "duplicate_mask = test_headphones.duplicated()\n",
    "duplicate_indexes = test_headphones[duplicate_mask].index"
   ]
  },
  {
   "cell_type": "code",
   "execution_count": 2,
   "metadata": {
    "scrolled": true
   },
   "outputs": [],
   "source": [
    "final_headphones = final_headphones.drop(duplicate_indexes)\n",
    "print(final_headphones.shape)"
   ]
  },
  {
   "cell_type": "code",
   "execution_count": 20,
   "metadata": {},
   "outputs": [
    {
     "name": "stdout",
     "output_type": "stream",
     "text": [
      "(625431, 7)\n"
     ]
    }
   ],
   "source": [
    "print(final_headphones.shape)"
   ]
  },
  {
   "cell_type": "code",
   "execution_count": 21,
   "metadata": {},
   "outputs": [],
   "source": [
    "final_headphones.to_pickle('final_headphones.pkl')"
   ]
  },
  {
   "cell_type": "code",
   "execution_count": 22,
   "metadata": {},
   "outputs": [
    {
     "name": "stdout",
     "output_type": "stream",
     "text": [
      "(625431, 7)\n",
      "\n"
     ]
    },
    {
     "data": {
      "text/html": [
       "<div>\n",
       "<style scoped>\n",
       "    .dataframe tbody tr th:only-of-type {\n",
       "        vertical-align: middle;\n",
       "    }\n",
       "\n",
       "    .dataframe tbody tr th {\n",
       "        vertical-align: top;\n",
       "    }\n",
       "\n",
       "    .dataframe thead th {\n",
       "        text-align: right;\n",
       "    }\n",
       "</style>\n",
       "<table border=\"1\" class=\"dataframe\">\n",
       "  <thead>\n",
       "    <tr style=\"text-align: right;\">\n",
       "      <th></th>\n",
       "      <th>asin</th>\n",
       "      <th>overall</th>\n",
       "      <th>reviewText</th>\n",
       "      <th>style</th>\n",
       "      <th>reviewerID</th>\n",
       "      <th>unixReviewTime</th>\n",
       "      <th>format</th>\n",
       "    </tr>\n",
       "  </thead>\n",
       "  <tbody>\n",
       "    <tr>\n",
       "      <th>0</th>\n",
       "      <td>4126895493</td>\n",
       "      <td>5.0</td>\n",
       "      <td>Great headphones. It's just the cord is too sh...</td>\n",
       "      <td>{'Color:': ' Blue W/Mic'}</td>\n",
       "      <td>A38RQFVQ1AKJQQ</td>\n",
       "      <td>1424563200</td>\n",
       "      <td>None</td>\n",
       "    </tr>\n",
       "    <tr>\n",
       "      <th>1</th>\n",
       "      <td>4126895493</td>\n",
       "      <td>5.0</td>\n",
       "      <td>Really like these headphone.  Wanted something...</td>\n",
       "      <td>{'Color:': ' Blue Zebra W/Mic'}</td>\n",
       "      <td>A299MRB9O6GWDE</td>\n",
       "      <td>1494201600</td>\n",
       "      <td>None</td>\n",
       "    </tr>\n",
       "    <tr>\n",
       "      <th>2</th>\n",
       "      <td>4126895493</td>\n",
       "      <td>1.0</td>\n",
       "      <td>Wire to headphone broke off in less than a mon...</td>\n",
       "      <td>{'Color:': ' Blue W/Mic'}</td>\n",
       "      <td>A3ACFC6DQQLIQT</td>\n",
       "      <td>1478304000</td>\n",
       "      <td>None</td>\n",
       "    </tr>\n",
       "    <tr>\n",
       "      <th>3</th>\n",
       "      <td>4126895493</td>\n",
       "      <td>3.0</td>\n",
       "      <td>Very good</td>\n",
       "      <td>{'Color:': ' Green'}</td>\n",
       "      <td>A36BC0YFDBNB5X</td>\n",
       "      <td>1474675200</td>\n",
       "      <td>None</td>\n",
       "    </tr>\n",
       "    <tr>\n",
       "      <th>4</th>\n",
       "      <td>4126895493</td>\n",
       "      <td>1.0</td>\n",
       "      <td>Currently returning this product because the s...</td>\n",
       "      <td>{'Color:': ' Violet Purple'}</td>\n",
       "      <td>A212PQ0HQPNNWM</td>\n",
       "      <td>1468713600</td>\n",
       "      <td>None</td>\n",
       "    </tr>\n",
       "  </tbody>\n",
       "</table>\n",
       "</div>"
      ],
      "text/plain": [
       "         asin  overall                                         reviewText  \\\n",
       "0  4126895493      5.0  Great headphones. It's just the cord is too sh...   \n",
       "1  4126895493      5.0  Really like these headphone.  Wanted something...   \n",
       "2  4126895493      1.0  Wire to headphone broke off in less than a mon...   \n",
       "3  4126895493      3.0                                          Very good   \n",
       "4  4126895493      1.0  Currently returning this product because the s...   \n",
       "\n",
       "                             style      reviewerID  unixReviewTime format  \n",
       "0        {'Color:': ' Blue W/Mic'}  A38RQFVQ1AKJQQ      1424563200   None  \n",
       "1  {'Color:': ' Blue Zebra W/Mic'}  A299MRB9O6GWDE      1494201600   None  \n",
       "2        {'Color:': ' Blue W/Mic'}  A3ACFC6DQQLIQT      1478304000   None  \n",
       "3             {'Color:': ' Green'}  A36BC0YFDBNB5X      1474675200   None  \n",
       "4     {'Color:': ' Violet Purple'}  A212PQ0HQPNNWM      1468713600   None  "
      ]
     },
     "execution_count": 22,
     "metadata": {},
     "output_type": "execute_result"
    }
   ],
   "source": [
    "final_headphones = pd.read_pickle('final_headphones.pkl')\n",
    "print(final_headphones.shape)\n",
    "print()\n",
    "final_headphones.head()"
   ]
  },
  {
   "cell_type": "code",
   "execution_count": null,
   "metadata": {},
   "outputs": [],
   "source": [
    "final_headphones.columns"
   ]
  },
  {
   "cell_type": "markdown",
   "metadata": {},
   "source": [
    "## 3. Report the total number of rows for the product. Perform appropriate\n",
    "## pre-processing as handling missing values, duplicates and other."
   ]
  },
  {
   "cell_type": "code",
   "execution_count": 27,
   "metadata": {},
   "outputs": [
    {
     "name": "stdout",
     "output_type": "stream",
     "text": [
      "1788\n",
      "(44832, 19)\n"
     ]
    }
   ],
   "source": [
    "print(metadata_df_headphones.astype('str').duplicated().sum())\n",
    "test_meta_headphones = metadata_df_headphones\n",
    "test_meta_headphones = test_meta_headphones.astype('str')\n",
    "duplicate_meta_mask = test_meta_headphones.duplicated()\n",
    "duplicate_meta_indexes = test_meta_headphones[duplicate_meta_mask].index\n",
    "metadata_df_headphones = metadata_df_headphones.drop(duplicate_meta_indexes)\n",
    "print(metadata_df_headphones.shape)"
   ]
  },
  {
   "cell_type": "code",
   "execution_count": 29,
   "metadata": {},
   "outputs": [],
   "source": [
    "metadata_df_headphones.to_pickle(\"metadata_df_headphones.pkl\")"
   ]
  },
  {
   "cell_type": "code",
   "execution_count": 28,
   "metadata": {},
   "outputs": [
    {
     "name": "stdout",
     "output_type": "stream",
     "text": [
      "(625431, 8)\n",
      "\n"
     ]
    },
    {
     "data": {
      "text/html": [
       "<div>\n",
       "<style scoped>\n",
       "    .dataframe tbody tr th:only-of-type {\n",
       "        vertical-align: middle;\n",
       "    }\n",
       "\n",
       "    .dataframe tbody tr th {\n",
       "        vertical-align: top;\n",
       "    }\n",
       "\n",
       "    .dataframe thead th {\n",
       "        text-align: right;\n",
       "    }\n",
       "</style>\n",
       "<table border=\"1\" class=\"dataframe\">\n",
       "  <thead>\n",
       "    <tr style=\"text-align: right;\">\n",
       "      <th></th>\n",
       "      <th>asin</th>\n",
       "      <th>overall</th>\n",
       "      <th>reviewText</th>\n",
       "      <th>style</th>\n",
       "      <th>reviewerID</th>\n",
       "      <th>unixReviewTime</th>\n",
       "      <th>format</th>\n",
       "      <th>brand</th>\n",
       "    </tr>\n",
       "  </thead>\n",
       "  <tbody>\n",
       "    <tr>\n",
       "      <th>0</th>\n",
       "      <td>4126895493</td>\n",
       "      <td>5.0</td>\n",
       "      <td>Great headphones. It's just the cord is too sh...</td>\n",
       "      <td>{'Color:': ' Blue W/Mic'}</td>\n",
       "      <td>A38RQFVQ1AKJQQ</td>\n",
       "      <td>1424563200</td>\n",
       "      <td>None</td>\n",
       "      <td>HeadGear</td>\n",
       "    </tr>\n",
       "    <tr>\n",
       "      <th>1</th>\n",
       "      <td>4126895493</td>\n",
       "      <td>5.0</td>\n",
       "      <td>Really like these headphone.  Wanted something...</td>\n",
       "      <td>{'Color:': ' Blue Zebra W/Mic'}</td>\n",
       "      <td>A299MRB9O6GWDE</td>\n",
       "      <td>1494201600</td>\n",
       "      <td>None</td>\n",
       "      <td>HeadGear</td>\n",
       "    </tr>\n",
       "    <tr>\n",
       "      <th>2</th>\n",
       "      <td>4126895493</td>\n",
       "      <td>1.0</td>\n",
       "      <td>Wire to headphone broke off in less than a mon...</td>\n",
       "      <td>{'Color:': ' Blue W/Mic'}</td>\n",
       "      <td>A3ACFC6DQQLIQT</td>\n",
       "      <td>1478304000</td>\n",
       "      <td>None</td>\n",
       "      <td>HeadGear</td>\n",
       "    </tr>\n",
       "    <tr>\n",
       "      <th>3</th>\n",
       "      <td>4126895493</td>\n",
       "      <td>3.0</td>\n",
       "      <td>Very good</td>\n",
       "      <td>{'Color:': ' Green'}</td>\n",
       "      <td>A36BC0YFDBNB5X</td>\n",
       "      <td>1474675200</td>\n",
       "      <td>None</td>\n",
       "      <td>HeadGear</td>\n",
       "    </tr>\n",
       "    <tr>\n",
       "      <th>4</th>\n",
       "      <td>4126895493</td>\n",
       "      <td>1.0</td>\n",
       "      <td>Currently returning this product because the s...</td>\n",
       "      <td>{'Color:': ' Violet Purple'}</td>\n",
       "      <td>A212PQ0HQPNNWM</td>\n",
       "      <td>1468713600</td>\n",
       "      <td>None</td>\n",
       "      <td>HeadGear</td>\n",
       "    </tr>\n",
       "  </tbody>\n",
       "</table>\n",
       "</div>"
      ],
      "text/plain": [
       "         asin  overall                                         reviewText  \\\n",
       "0  4126895493      5.0  Great headphones. It's just the cord is too sh...   \n",
       "1  4126895493      5.0  Really like these headphone.  Wanted something...   \n",
       "2  4126895493      1.0  Wire to headphone broke off in less than a mon...   \n",
       "3  4126895493      3.0                                          Very good   \n",
       "4  4126895493      1.0  Currently returning this product because the s...   \n",
       "\n",
       "                             style      reviewerID  unixReviewTime format  \\\n",
       "0        {'Color:': ' Blue W/Mic'}  A38RQFVQ1AKJQQ      1424563200   None   \n",
       "1  {'Color:': ' Blue Zebra W/Mic'}  A299MRB9O6GWDE      1494201600   None   \n",
       "2        {'Color:': ' Blue W/Mic'}  A3ACFC6DQQLIQT      1478304000   None   \n",
       "3             {'Color:': ' Green'}  A36BC0YFDBNB5X      1474675200   None   \n",
       "4     {'Color:': ' Violet Purple'}  A212PQ0HQPNNWM      1468713600   None   \n",
       "\n",
       "      brand  \n",
       "0  HeadGear  \n",
       "1  HeadGear  \n",
       "2  HeadGear  \n",
       "3  HeadGear  \n",
       "4  HeadGear  "
      ]
     },
     "execution_count": 28,
     "metadata": {},
     "output_type": "execute_result"
    }
   ],
   "source": [
    "merged_df = pd.merge(final_headphones, metadata_df_headphones, on='asin', how='inner')\n",
    "merged_df = merged_df[['asin', 'overall', 'reviewText', 'style', 'reviewerID',\n",
    "       'unixReviewTime', 'format', 'brand']]\n",
    "print(merged_df.shape)\n",
    "print()\n",
    "merged_df.head()"
   ]
  },
  {
   "cell_type": "code",
   "execution_count": 30,
   "metadata": {},
   "outputs": [],
   "source": [
    "merged_df.to_pickle(\"merged_df.pkl\")"
   ]
  },
  {
   "cell_type": "code",
   "execution_count": null,
   "metadata": {},
   "outputs": [],
   "source": [
    "merged_df.isnull().sum()"
   ]
  },
  {
   "cell_type": "code",
   "execution_count": null,
   "metadata": {},
   "outputs": [],
   "source": [
    "merged_df['brand'].value_counts()"
   ]
  },
  {
   "cell_type": "code",
   "execution_count": null,
   "metadata": {},
   "outputs": [],
   "source": [
    "merged_df['brand'].nunique()"
   ]
  },
  {
   "cell_type": "code",
   "execution_count": null,
   "metadata": {},
   "outputs": [],
   "source": [
    "final_headphones.head()"
   ]
  },
  {
   "cell_type": "code",
   "execution_count": null,
   "metadata": {},
   "outputs": [],
   "source": [
    "final_headphones.isnull().sum()"
   ]
  },
  {
   "cell_type": "code",
   "execution_count": null,
   "metadata": {},
   "outputs": [],
   "source": [
    "merged_df.to_pickle('final_headphones.pkl')"
   ]
  },
  {
   "cell_type": "code",
   "execution_count": null,
   "metadata": {},
   "outputs": [],
   "source": [
    "final_headphones.dtypes"
   ]
  },
  {
   "cell_type": "code",
   "execution_count": null,
   "metadata": {},
   "outputs": [],
   "source": [
    "final_headphones = final_headphones[['asin', 'overall', 'reviewText', 'style', 'reviewerID']]\n",
    "final_headphones['style'].fillna('', inplace=True)\n",
    "final_headphones.isnull().sum()"
   ]
  },
  {
   "cell_type": "code",
   "execution_count": null,
   "metadata": {},
   "outputs": [],
   "source": [
    "def extract_dict_keys(dictionary):\n",
    "    keys = list(dictionary.keys())\n",
    "    values = list(dictionary.values())\n",
    "    return keys[0], values[0]\n",
    "final_headphones[['style_key', 'style_value']] = final_headphones['style'].apply(extract_dict_keys).apply(pd.Series)\n",
    "final_headphones.head()"
   ]
  },
  {
   "cell_type": "code",
   "execution_count": null,
   "metadata": {},
   "outputs": [],
   "source": []
  }
 ],
 "metadata": {
  "kernelspec": {
   "display_name": "Python 3 (ipykernel)",
   "language": "python",
   "name": "python3"
  },
  "language_info": {
   "codemirror_mode": {
    "name": "ipython",
    "version": 3
   },
   "file_extension": ".py",
   "mimetype": "text/x-python",
   "name": "python",
   "nbconvert_exporter": "python",
   "pygments_lexer": "ipython3",
   "version": "3.7.13"
  }
 },
 "nbformat": 4,
 "nbformat_minor": 2
}
