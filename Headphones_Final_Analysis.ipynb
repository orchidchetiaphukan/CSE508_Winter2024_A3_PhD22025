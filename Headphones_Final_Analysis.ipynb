{
 "cells": [
  {
   "cell_type": "code",
   "execution_count": 1,
   "metadata": {},
   "outputs": [],
   "source": [
    "import pandas as pd\n",
    "import numpy as np\n",
    "import pickle\n",
    "import matplotlib.pyplot as plt"
   ]
  },
  {
   "cell_type": "code",
   "execution_count": 2,
   "metadata": {},
   "outputs": [
    {
     "name": "stdout",
     "output_type": "stream",
     "text": [
      "(625431, 8)\n",
      "\n"
     ]
    },
    {
     "data": {
      "text/html": [
       "<div>\n",
       "<style scoped>\n",
       "    .dataframe tbody tr th:only-of-type {\n",
       "        vertical-align: middle;\n",
       "    }\n",
       "\n",
       "    .dataframe tbody tr th {\n",
       "        vertical-align: top;\n",
       "    }\n",
       "\n",
       "    .dataframe thead th {\n",
       "        text-align: right;\n",
       "    }\n",
       "</style>\n",
       "<table border=\"1\" class=\"dataframe\">\n",
       "  <thead>\n",
       "    <tr style=\"text-align: right;\">\n",
       "      <th></th>\n",
       "      <th>asin</th>\n",
       "      <th>overall</th>\n",
       "      <th>reviewText</th>\n",
       "      <th>style</th>\n",
       "      <th>reviewerID</th>\n",
       "      <th>unixReviewTime</th>\n",
       "      <th>format</th>\n",
       "      <th>brand</th>\n",
       "    </tr>\n",
       "  </thead>\n",
       "  <tbody>\n",
       "    <tr>\n",
       "      <th>0</th>\n",
       "      <td>4126895493</td>\n",
       "      <td>5.0</td>\n",
       "      <td>Great headphones. It's just the cord is too sh...</td>\n",
       "      <td>{'Color:': ' Blue W/Mic'}</td>\n",
       "      <td>A38RQFVQ1AKJQQ</td>\n",
       "      <td>1424563200</td>\n",
       "      <td>None</td>\n",
       "      <td>HeadGear</td>\n",
       "    </tr>\n",
       "    <tr>\n",
       "      <th>1</th>\n",
       "      <td>4126895493</td>\n",
       "      <td>5.0</td>\n",
       "      <td>Really like these headphone.  Wanted something...</td>\n",
       "      <td>{'Color:': ' Blue Zebra W/Mic'}</td>\n",
       "      <td>A299MRB9O6GWDE</td>\n",
       "      <td>1494201600</td>\n",
       "      <td>None</td>\n",
       "      <td>HeadGear</td>\n",
       "    </tr>\n",
       "    <tr>\n",
       "      <th>2</th>\n",
       "      <td>4126895493</td>\n",
       "      <td>1.0</td>\n",
       "      <td>Wire to headphone broke off in less than a mon...</td>\n",
       "      <td>{'Color:': ' Blue W/Mic'}</td>\n",
       "      <td>A3ACFC6DQQLIQT</td>\n",
       "      <td>1478304000</td>\n",
       "      <td>None</td>\n",
       "      <td>HeadGear</td>\n",
       "    </tr>\n",
       "    <tr>\n",
       "      <th>3</th>\n",
       "      <td>4126895493</td>\n",
       "      <td>3.0</td>\n",
       "      <td>Very good</td>\n",
       "      <td>{'Color:': ' Green'}</td>\n",
       "      <td>A36BC0YFDBNB5X</td>\n",
       "      <td>1474675200</td>\n",
       "      <td>None</td>\n",
       "      <td>HeadGear</td>\n",
       "    </tr>\n",
       "    <tr>\n",
       "      <th>4</th>\n",
       "      <td>4126895493</td>\n",
       "      <td>1.0</td>\n",
       "      <td>Currently returning this product because the s...</td>\n",
       "      <td>{'Color:': ' Violet Purple'}</td>\n",
       "      <td>A212PQ0HQPNNWM</td>\n",
       "      <td>1468713600</td>\n",
       "      <td>None</td>\n",
       "      <td>HeadGear</td>\n",
       "    </tr>\n",
       "  </tbody>\n",
       "</table>\n",
       "</div>"
      ],
      "text/plain": [
       "         asin  overall                                         reviewText  \\\n",
       "0  4126895493      5.0  Great headphones. It's just the cord is too sh...   \n",
       "1  4126895493      5.0  Really like these headphone.  Wanted something...   \n",
       "2  4126895493      1.0  Wire to headphone broke off in less than a mon...   \n",
       "3  4126895493      3.0                                          Very good   \n",
       "4  4126895493      1.0  Currently returning this product because the s...   \n",
       "\n",
       "                             style      reviewerID  unixReviewTime format  \\\n",
       "0        {'Color:': ' Blue W/Mic'}  A38RQFVQ1AKJQQ      1424563200   None   \n",
       "1  {'Color:': ' Blue Zebra W/Mic'}  A299MRB9O6GWDE      1494201600   None   \n",
       "2        {'Color:': ' Blue W/Mic'}  A3ACFC6DQQLIQT      1478304000   None   \n",
       "3             {'Color:': ' Green'}  A36BC0YFDBNB5X      1474675200   None   \n",
       "4     {'Color:': ' Violet Purple'}  A212PQ0HQPNNWM      1468713600   None   \n",
       "\n",
       "      brand  \n",
       "0  HeadGear  \n",
       "1  HeadGear  \n",
       "2  HeadGear  \n",
       "3  HeadGear  \n",
       "4  HeadGear  "
      ]
     },
     "execution_count": 2,
     "metadata": {},
     "output_type": "execute_result"
    }
   ],
   "source": [
    "df = pd.read_pickle('merged_df.pkl')\n",
    "print(df.shape)\n",
    "print()\n",
    "df.head()"
   ]
  },
  {
   "cell_type": "code",
   "execution_count": 3,
   "metadata": {},
   "outputs": [
    {
     "data": {
      "text/plain": [
       "asin               object\n",
       "overall           float64\n",
       "reviewText         object\n",
       "style              object\n",
       "reviewerID         object\n",
       "unixReviewTime      int64\n",
       "format             object\n",
       "brand              object\n",
       "dtype: object"
      ]
     },
     "execution_count": 3,
     "metadata": {},
     "output_type": "execute_result"
    }
   ],
   "source": [
    "df.dtypes"
   ]
  },
  {
   "cell_type": "code",
   "execution_count": 4,
   "metadata": {},
   "outputs": [
    {
     "data": {
      "text/plain": [
       "asin                   0\n",
       "overall                0\n",
       "reviewText            96\n",
       "style                  0\n",
       "reviewerID             0\n",
       "unixReviewTime         0\n",
       "format            620677\n",
       "brand                  0\n",
       "dtype: int64"
      ]
     },
     "execution_count": 4,
     "metadata": {},
     "output_type": "execute_result"
    }
   ],
   "source": [
    "df.isnull().sum()"
   ]
  },
  {
   "cell_type": "code",
   "execution_count": 3,
   "metadata": {},
   "outputs": [],
   "source": [
    "df = df[['asin', 'overall', 'reviewText', 'style', 'reviewerID', 'unixReviewTime', 'brand']]"
   ]
  },
  {
   "cell_type": "code",
   "execution_count": 6,
   "metadata": {},
   "outputs": [
    {
     "data": {
      "text/plain": [
       "str"
      ]
     },
     "execution_count": 6,
     "metadata": {},
     "output_type": "execute_result"
    }
   ],
   "source": [
    "type(df['style'][0])"
   ]
  },
  {
   "cell_type": "markdown",
   "metadata": {},
   "source": [
    "## 4. Obtain the Descriptive Statistics of the product as : -"
   ]
  },
  {
   "cell_type": "code",
   "execution_count": 7,
   "metadata": {},
   "outputs": [
    {
     "data": {
      "text/plain": [
       "625335"
      ]
     },
     "execution_count": 7,
     "metadata": {},
     "output_type": "execute_result"
    }
   ],
   "source": [
    "# a. Number of Reviews.\n",
    "df['reviewText'].dropna().count()"
   ]
  },
  {
   "cell_type": "code",
   "execution_count": 8,
   "metadata": {},
   "outputs": [
    {
     "data": {
      "text/plain": [
       "4.108317304386895"
      ]
     },
     "execution_count": 8,
     "metadata": {},
     "output_type": "execute_result"
    }
   ],
   "source": [
    "# b. Average Rating Score.\n",
    "df['overall'].mean()"
   ]
  },
  {
   "cell_type": "code",
   "execution_count": 9,
   "metadata": {},
   "outputs": [
    {
     "name": "stdout",
     "output_type": "stream",
     "text": [
      "Number of unique products: 5885\n"
     ]
    }
   ],
   "source": [
    "# c. Number of Unique Products.\n",
    "unique_counts = {}\n",
    "import json\n",
    "for value in df['style'].dropna():\n",
    "    str_value = json.dumps(value)  \n",
    "    if str_value in unique_counts:\n",
    "        unique_counts[str_value] += 1\n",
    "    else:\n",
    "        unique_counts[str_value] = 1\n",
    "\n",
    "print(\"Number of unique products:\", len(unique_counts))"
   ]
  },
  {
   "cell_type": "code",
   "execution_count": 10,
   "metadata": {},
   "outputs": [
    {
     "name": "stdout",
     "output_type": "stream",
     "text": [
      "Number of good Ratings: 535699\n"
     ]
    }
   ],
   "source": [
    "# d. Number of Good Ratings.\n",
    "threshold = 3\n",
    "good_ratings_count = df[df['overall'] >= threshold].shape[0]\n",
    "print(\"Number of good Ratings:\", good_ratings_count)"
   ]
  },
  {
   "cell_type": "code",
   "execution_count": 11,
   "metadata": {},
   "outputs": [
    {
     "name": "stdout",
     "output_type": "stream",
     "text": [
      "Number of Bad Ratings: 89732\n"
     ]
    }
   ],
   "source": [
    "# e. Number of Bad Ratings.\n",
    "threshold = 3\n",
    "bad_ratings_count = df[df['overall'] < threshold].shape[0]\n",
    "print(\"Number of Bad Ratings:\", bad_ratings_count)"
   ]
  },
  {
   "cell_type": "code",
   "execution_count": 12,
   "metadata": {},
   "outputs": [
    {
     "name": "stdout",
     "output_type": "stream",
     "text": [
      "(625431, 2)\n",
      "(625335, 2)\n"
     ]
    },
    {
     "data": {
      "text/html": [
       "<div>\n",
       "<style scoped>\n",
       "    .dataframe tbody tr th:only-of-type {\n",
       "        vertical-align: middle;\n",
       "    }\n",
       "\n",
       "    .dataframe tbody tr th {\n",
       "        vertical-align: top;\n",
       "    }\n",
       "\n",
       "    .dataframe thead th {\n",
       "        text-align: right;\n",
       "    }\n",
       "</style>\n",
       "<table border=\"1\" class=\"dataframe\">\n",
       "  <thead>\n",
       "    <tr style=\"text-align: right;\">\n",
       "      <th></th>\n",
       "      <th>overall</th>\n",
       "      <th>count</th>\n",
       "    </tr>\n",
       "  </thead>\n",
       "  <tbody>\n",
       "    <tr>\n",
       "      <th>0</th>\n",
       "      <td>1.0</td>\n",
       "      <td>49074</td>\n",
       "    </tr>\n",
       "    <tr>\n",
       "      <th>1</th>\n",
       "      <td>2.0</td>\n",
       "      <td>40652</td>\n",
       "    </tr>\n",
       "    <tr>\n",
       "      <th>2</th>\n",
       "      <td>3.0</td>\n",
       "      <td>60760</td>\n",
       "    </tr>\n",
       "    <tr>\n",
       "      <th>3</th>\n",
       "      <td>4.0</td>\n",
       "      <td>117862</td>\n",
       "    </tr>\n",
       "    <tr>\n",
       "      <th>4</th>\n",
       "      <td>5.0</td>\n",
       "      <td>356987</td>\n",
       "    </tr>\n",
       "  </tbody>\n",
       "</table>\n",
       "</div>"
      ],
      "text/plain": [
       "   overall   count\n",
       "0      1.0   49074\n",
       "1      2.0   40652\n",
       "2      3.0   60760\n",
       "3      4.0  117862\n",
       "4      5.0  356987"
      ]
     },
     "execution_count": 12,
     "metadata": {},
     "output_type": "execute_result"
    }
   ],
   "source": [
    "# f. Number of Reviews corresponding to each Rating.\n",
    "df_rating_review = df[['overall', 'reviewText']]\n",
    "print(df_rating_review.shape)\n",
    "df_rating_review = df_rating_review.dropna().reset_index(drop= True)\n",
    "print(df_rating_review.shape)\n",
    "df_rating_review.groupby(['overall']).size().reset_index(name='count')"
   ]
  },
  {
   "cell_type": "markdown",
   "metadata": {},
   "source": [
    "## 5. Preprocess the Text"
   ]
  },
  {
   "cell_type": "code",
   "execution_count": 13,
   "metadata": {},
   "outputs": [
    {
     "data": {
      "text/plain": [
       "overall       0\n",
       "reviewText    0\n",
       "dtype: int64"
      ]
     },
     "execution_count": 13,
     "metadata": {},
     "output_type": "execute_result"
    }
   ],
   "source": [
    "df_rating_review.isnull().sum()"
   ]
  },
  {
   "cell_type": "code",
   "execution_count": 14,
   "metadata": {},
   "outputs": [
    {
     "data": {
      "text/html": [
       "<div>\n",
       "<style scoped>\n",
       "    .dataframe tbody tr th:only-of-type {\n",
       "        vertical-align: middle;\n",
       "    }\n",
       "\n",
       "    .dataframe tbody tr th {\n",
       "        vertical-align: top;\n",
       "    }\n",
       "\n",
       "    .dataframe thead th {\n",
       "        text-align: right;\n",
       "    }\n",
       "</style>\n",
       "<table border=\"1\" class=\"dataframe\">\n",
       "  <thead>\n",
       "    <tr style=\"text-align: right;\">\n",
       "      <th></th>\n",
       "      <th>overall</th>\n",
       "      <th>reviewText</th>\n",
       "    </tr>\n",
       "  </thead>\n",
       "  <tbody>\n",
       "    <tr>\n",
       "      <th>0</th>\n",
       "      <td>5.0</td>\n",
       "      <td>Great headphones. It's just the cord is too sh...</td>\n",
       "    </tr>\n",
       "    <tr>\n",
       "      <th>1</th>\n",
       "      <td>5.0</td>\n",
       "      <td>Really like these headphone.  Wanted something...</td>\n",
       "    </tr>\n",
       "    <tr>\n",
       "      <th>2</th>\n",
       "      <td>1.0</td>\n",
       "      <td>Wire to headphone broke off in less than a mon...</td>\n",
       "    </tr>\n",
       "    <tr>\n",
       "      <th>3</th>\n",
       "      <td>3.0</td>\n",
       "      <td>Very good</td>\n",
       "    </tr>\n",
       "    <tr>\n",
       "      <th>4</th>\n",
       "      <td>1.0</td>\n",
       "      <td>Currently returning this product because the s...</td>\n",
       "    </tr>\n",
       "  </tbody>\n",
       "</table>\n",
       "</div>"
      ],
      "text/plain": [
       "   overall                                         reviewText\n",
       "0      5.0  Great headphones. It's just the cord is too sh...\n",
       "1      5.0  Really like these headphone.  Wanted something...\n",
       "2      1.0  Wire to headphone broke off in less than a mon...\n",
       "3      3.0                                          Very good\n",
       "4      1.0  Currently returning this product because the s..."
      ]
     },
     "execution_count": 14,
     "metadata": {},
     "output_type": "execute_result"
    }
   ],
   "source": [
    "df_rating_review.head()"
   ]
  },
  {
   "cell_type": "code",
   "execution_count": 15,
   "metadata": {},
   "outputs": [
    {
     "data": {
      "text/plain": [
       "overall       float64\n",
       "reviewText     object\n",
       "dtype: object"
      ]
     },
     "execution_count": 15,
     "metadata": {},
     "output_type": "execute_result"
    }
   ],
   "source": [
    "df_rating_review.dtypes"
   ]
  },
  {
   "cell_type": "code",
   "execution_count": 17,
   "metadata": {},
   "outputs": [],
   "source": [
    "#! pip install inflect"
   ]
  },
  {
   "cell_type": "code",
   "execution_count": 18,
   "metadata": {},
   "outputs": [
    {
     "name": "stderr",
     "output_type": "stream",
     "text": [
      "/home/orchid/anaconda3/lib/python3.7/site-packages/sklearn/utils/validation.py:37: DeprecationWarning: distutils Version classes are deprecated. Use packaging.version instead.\n",
      "  LARGE_SPARSE_SUPPORTED = LooseVersion(scipy_version) >= '0.14.0'\n",
      "/home/orchid/anaconda3/lib/python3.7/site-packages/sklearn/feature_extraction/image.py:167: DeprecationWarning: `np.int` is a deprecated alias for the builtin `int`. To silence this warning, use `int` by itself. Doing this will not modify any behavior and is safe. When replacing `np.int`, you may wish to use e.g. `np.int64` or `np.int32` to specify the precision. If you wish to review your current use, check the release note link for additional information.\n",
      "Deprecated in NumPy 1.20; for more details and guidance: https://numpy.org/devdocs/release/1.20.0-notes.html#deprecations\n",
      "  dtype=np.int):\n",
      "/home/orchid/anaconda3/lib/python3.7/site-packages/sklearn/linear_model/least_angle.py:35: DeprecationWarning: `np.float` is a deprecated alias for the builtin `float`. To silence this warning, use `float` by itself. Doing this will not modify any behavior and is safe. If you specifically wanted the numpy scalar type, use `np.float64` here.\n",
      "Deprecated in NumPy 1.20; for more details and guidance: https://numpy.org/devdocs/release/1.20.0-notes.html#deprecations\n",
      "  eps=np.finfo(np.float).eps,\n",
      "/home/orchid/anaconda3/lib/python3.7/site-packages/sklearn/linear_model/least_angle.py:597: DeprecationWarning: `np.float` is a deprecated alias for the builtin `float`. To silence this warning, use `float` by itself. Doing this will not modify any behavior and is safe. If you specifically wanted the numpy scalar type, use `np.float64` here.\n",
      "Deprecated in NumPy 1.20; for more details and guidance: https://numpy.org/devdocs/release/1.20.0-notes.html#deprecations\n",
      "  eps=np.finfo(np.float).eps, copy_X=True, fit_path=True,\n",
      "/home/orchid/anaconda3/lib/python3.7/site-packages/sklearn/linear_model/least_angle.py:836: DeprecationWarning: `np.float` is a deprecated alias for the builtin `float`. To silence this warning, use `float` by itself. Doing this will not modify any behavior and is safe. If you specifically wanted the numpy scalar type, use `np.float64` here.\n",
      "Deprecated in NumPy 1.20; for more details and guidance: https://numpy.org/devdocs/release/1.20.0-notes.html#deprecations\n",
      "  eps=np.finfo(np.float).eps, copy_X=True, fit_path=True,\n",
      "/home/orchid/anaconda3/lib/python3.7/site-packages/sklearn/linear_model/least_angle.py:862: DeprecationWarning: `np.float` is a deprecated alias for the builtin `float`. To silence this warning, use `float` by itself. Doing this will not modify any behavior and is safe. If you specifically wanted the numpy scalar type, use `np.float64` here.\n",
      "Deprecated in NumPy 1.20; for more details and guidance: https://numpy.org/devdocs/release/1.20.0-notes.html#deprecations\n",
      "  eps=np.finfo(np.float).eps, positive=False):\n",
      "/home/orchid/anaconda3/lib/python3.7/site-packages/sklearn/linear_model/least_angle.py:1097: DeprecationWarning: `np.float` is a deprecated alias for the builtin `float`. To silence this warning, use `float` by itself. Doing this will not modify any behavior and is safe. If you specifically wanted the numpy scalar type, use `np.float64` here.\n",
      "Deprecated in NumPy 1.20; for more details and guidance: https://numpy.org/devdocs/release/1.20.0-notes.html#deprecations\n",
      "  max_n_alphas=1000, n_jobs=None, eps=np.finfo(np.float).eps,\n",
      "/home/orchid/anaconda3/lib/python3.7/site-packages/sklearn/linear_model/least_angle.py:1344: DeprecationWarning: `np.float` is a deprecated alias for the builtin `float`. To silence this warning, use `float` by itself. Doing this will not modify any behavior and is safe. If you specifically wanted the numpy scalar type, use `np.float64` here.\n",
      "Deprecated in NumPy 1.20; for more details and guidance: https://numpy.org/devdocs/release/1.20.0-notes.html#deprecations\n",
      "  max_n_alphas=1000, n_jobs=None, eps=np.finfo(np.float).eps,\n",
      "/home/orchid/anaconda3/lib/python3.7/site-packages/sklearn/linear_model/least_angle.py:1480: DeprecationWarning: `np.float` is a deprecated alias for the builtin `float`. To silence this warning, use `float` by itself. Doing this will not modify any behavior and is safe. If you specifically wanted the numpy scalar type, use `np.float64` here.\n",
      "Deprecated in NumPy 1.20; for more details and guidance: https://numpy.org/devdocs/release/1.20.0-notes.html#deprecations\n",
      "  eps=np.finfo(np.float).eps, copy_X=True, positive=False):\n",
      "/home/orchid/anaconda3/lib/python3.7/site-packages/sklearn/linear_model/randomized_l1.py:152: DeprecationWarning: `np.float` is a deprecated alias for the builtin `float`. To silence this warning, use `float` by itself. Doing this will not modify any behavior and is safe. If you specifically wanted the numpy scalar type, use `np.float64` here.\n",
      "Deprecated in NumPy 1.20; for more details and guidance: https://numpy.org/devdocs/release/1.20.0-notes.html#deprecations\n",
      "  precompute=False, eps=np.finfo(np.float).eps,\n",
      "/home/orchid/anaconda3/lib/python3.7/site-packages/sklearn/linear_model/randomized_l1.py:320: DeprecationWarning: `np.float` is a deprecated alias for the builtin `float`. To silence this warning, use `float` by itself. Doing this will not modify any behavior and is safe. If you specifically wanted the numpy scalar type, use `np.float64` here.\n",
      "Deprecated in NumPy 1.20; for more details and guidance: https://numpy.org/devdocs/release/1.20.0-notes.html#deprecations\n",
      "  eps=np.finfo(np.float).eps, random_state=None,\n",
      "/home/orchid/anaconda3/lib/python3.7/site-packages/sklearn/linear_model/randomized_l1.py:580: DeprecationWarning: `np.float` is a deprecated alias for the builtin `float`. To silence this warning, use `float` by itself. Doing this will not modify any behavior and is safe. If you specifically wanted the numpy scalar type, use `np.float64` here.\n",
      "Deprecated in NumPy 1.20; for more details and guidance: https://numpy.org/devdocs/release/1.20.0-notes.html#deprecations\n",
      "  eps=4 * np.finfo(np.float).eps, n_jobs=None,\n"
     ]
    }
   ],
   "source": [
    "import re\n",
    "import unicodedata\n",
    "from nltk.stem import WordNetLemmatizer\n",
    "from nltk.corpus import wordnet\n",
    "import inflect\n",
    "\n",
    "lemmatizer = WordNetLemmatizer()\n",
    "p = inflect.engine()\n",
    "\n",
    "# a. Removing the HTML Tags.\n",
    "def remove_html_tags(text):\n",
    "    clean_text = re.sub(r'<.*?>', '', text)  # Remove HTML tags\n",
    "    return clean_text\n",
    "\n",
    "# b. Removing accented characters.\n",
    "def remove_accented_chars(text):\n",
    "    text = unicodedata.normalize('NFKD', text).encode('ascii', 'ignore').decode('utf-8', 'ignore')\n",
    "    return text\n",
    "\n",
    "# c. Expanding Acronyms \n",
    "acronyms = {\n",
    "    \"IIRC\": \"If I Recall Correctly\",\n",
    "    \"IMO\": \"In My Opinion\",\n",
    "    \"YMMV\": \"Your Mileage May Vary\",\n",
    "    \"TL;DR\": \"Too Long; Didn't Read\",\n",
    "    \"IMHO\": \"In My Humble Opinion\",\n",
    "    \"FWIW\": \"For What It's Worth\",\n",
    "    \"AFAIK\": \"As Far As I Know\",\n",
    "    \"OP\": \"Original Poster\",\n",
    "    \"ETA\": \"Estimated Time of Arrival\",\n",
    "    \"OT\": \"Off-Topic\",\n",
    "    \"NIB\": \"New In Box\",\n",
    "    \"BNIB\": \"Brand New In Box\",\n",
    "    \"BNWT\": \"Brand New With Tags\",\n",
    "    \"BNIP\": \"Brand New In Packaging\",\n",
    "    \"EUC\": \"Excellent Used Condition\",\n",
    "    \"NWOT\": \"New Without Tags\",\n",
    "    \"FS\": \"For Sale\",\n",
    "    \"FT\": \"For Trade\",\n",
    "    \"ISO\": \"In Search Of\",\n",
    "    \"NWT\": \"New With Tags\",\n",
    "    \"HTF\": \"Hard To Find\",\n",
    "    \"BN\": \"Brand New\",\n",
    "    \"VGC\": \"Very Good Condition\",\n",
    "    \"VGUC\": \"Very Good Used Condition\",\n",
    "    \"LN\": \"Like New\",\n",
    "    \"NOS\": \"New Old Stock\",\n",
    "    \"NIP\": \"New In Package\",\n",
    "    \"OBO\": \"Or Best Offer\",\n",
    "    \"PP\": \"PayPal\",\n",
    "    \"PM\": \"Private Message\",\n",
    "    \"NWT\": \"New With Tags\",\n",
    "    \"NIB\": \"New In Box\",\n",
    "    \"MIB\": \"Mint In Box\",\n",
    "    \"MIP\": \"Mint In Package\",\n",
    "    \"MOC\": \"Mint On Card\",\n",
    "    \"HTH\": \"Hope That Helps\",\n",
    "    \"TIA\": \"Thanks In Advance\",\n",
    "    \"FBA\": \"Fulfillment By Amazon\",\n",
    "    \"FBO\": \"For Best Offer\",\n",
    "    \"FPM\": \"First Person Mention\",\n",
    "    \"Q&A\": \"Question and Answer\",\n",
    "    \"PSA\": \"Public Service Announcement\",\n",
    "    \"ETA\": \"Estimated Time of Arrival\",\n",
    "    \"PS\": \"Postscript\",\n",
    "    \"ICYMI\": \"In Case You Missed It\",\n",
    "    \"DW\": \"Deal With\",\n",
    "    \"BTS\": \"Behind The Scenes\",\n",
    "    \"EOTD\": \"End Of The Day\",\n",
    "    \"BTW\": \"By The Way\",\n",
    "    \"DIY\": \"Do It Yourself\",\n",
    "    \"CR\": \"Customer Review\",\n",
    "    \"FAQ\": \"Frequently Asked Questions\",\n",
    "    \"ASIN\": \"Amazon Standard Identification Number\",\n",
    "    \"BOPIS\": \"Buy Online, Pick Up In Store\",\n",
    "    \"BOGO\": \"Buy One, Get One\",\n",
    "    \"EPC\": \"Earn Per Click\",\n",
    "    \"UPC\": \"Universal Product Code\",\n",
    "    \"ROI\": \"Return On Investment\",\n",
    "    \"KPI\": \"Key Performance Indicator\",\n",
    "    \"CTR\": \"Click-Through Rate\",\n",
    "    \"CPC\": \"Cost Per Click\",\n",
    "    \"CPM\": \"Cost Per Thousand Impressions\",\n",
    "    \"CTA\": \"Call To Action\",\n",
    "    \"PPC\": \"Pay-Per-Click\",\n",
    "    \"CRO\": \"Conversion Rate Optimization\",\n",
    "    \"SERP\": \"Search Engine Results Page\",\n",
    "    \"SKU\": \"Stock Keeping Unit\",\n",
    "    \"SOP\": \"Standard Operating Procedure\",\n",
    "    \"CRaP\": \"Can't Realize any Profit\",\n",
    "    \"LTL\": \"Less Than Load\",\n",
    "    \"OOS\": \"Out of Stock\",\n",
    "    \"P&L\": \"Profit and Loss\",\n",
    "    \"QA\": \"Quality Assurance\",\n",
    "    \"QC\": \"Quality Control\",\n",
    "    \"RFQ\": \"Request For Quotation\",\n",
    "    \"SLA\": \"Service Level Agreement\",\n",
    "    \"SRM\": \"Supplier Relationship Management\",\n",
    "    \"WMS\": \"Warehouse Management System\",\n",
    "    \"EDI\": \"Electronic Data Interchange\",\n",
    "    \"TMS\": \"Transportation Management System\",\n",
    "    \"SCM\": \"Supply Chain Management\",\n",
    "    \"BOM\": \"Bill Of Materials\",\n",
    "    \"BOL\": \"Bill Of Lading\",\n",
    "    \"BOA\": \"Bill Of Activities\",\n",
    "    \"MPS\": \"Master Production Schedule\",\n",
    "    \"MRP\": \"Material Requirements Planning\",\n",
    "    \"ERP\": \"Enterprise Resource Planning\",\n",
    "    \"MRO\": \"Maintenance, Repair, and Operations\",\n",
    "    \"ROP\": \"Reorder Point\",\n",
    "    \"ROQ\": \"Reorder Quantity\",\n",
    "    \"VMI\": \"Vendor Managed Inventory\",\n",
    "    \"ABC\": \"Always Be Closing\",\n",
    "    \"COGS\": \"Cost Of Goods Sold\",\n",
    "    \"DRP\": \"Distribution Requirements Planning\",\n",
    "    \"JIT\": \"Just In Time\",\n",
    "    \"LIFO\": \"Last In, First Out\",\n",
    "    \"EOQ\": \"Economic Order Quantity\",\n",
    "    \"MOQ\": \"Minimum Order Quantity\",\n",
    "    \"SKU\": \"Stock Keeping Unit\",\n",
    "    \"TCO\": \"Total Cost of Ownership\",\n",
    "    \"DTC\": \"Direct-To-Consumer\",\n",
    "    \"OMS\": \"Order Management System\",\n",
    "    \"POS\": \"Point Of Sale\",\n",
    "    \"ROP\": \"Reorder Point\",\n",
    "    \"EOQ\": \"Economic Order Quantity\",\n",
    "    \"CPG\": \"Consumer Packaged Goods\",\n",
    "    \"DMU\": \"Decision Making Unit\",\n",
    "    \"MDF\": \"Market Development Fund\",\n",
    "    \"CRM\": \"Customer Relationship Management\",\n",
    "    \"CLV\": \"Customer Lifetime Value\",\n",
    "    \"LTV\": \"Lifetime Value\",\n",
    "    \"GTM\": \"Go-To-Market\",\n",
    "    \"ROMI\": \"Return On Marketing Investment\",\n",
    "    \"SEO\": \"Search Engine Optimization\",\n",
    "    \"SEM\": \"Search Engine Marketing\",\n",
    "    \"SMM\": \"Social Media Marketing\",\n",
    "    \"CRO\": \"Conversion Rate Optimization\",\n",
    "    \"CTR\": \"Click-Through Rate\",\n",
    "    \"CPA\": \"Cost Per Acquisition\",\n",
    "    \"CPL\": \"Cost Per Lead\",\n",
    "    \"CPS\": \"Cost Per Sale\",\n",
    "    \"CPI\": \"Cost Per Install\",\n",
    "    \"CPV\": \"Cost Per View\",\n",
    "    \"CPC\": \"Cost Per Click\",\n",
    "    \"CPM\": \"Cost Per Mille\",\n",
    "    \"ROAS\": \"Return On Advertising Spend\",\n",
    "    \"CTR\": \"Click Through Rate\",\n",
    "    \"CPC\": \"Cost Per Click\",\n",
    "    \"CR\": \"Conversion Rate\",\n",
    "    \"CPA\": \"Cost Per Acquisition\",\n",
    "    \"LTV\": \"Lifetime Value\",\n",
    "    \"RFM\": \"Recency, Frequency, Monetary\",\n",
    "    \"CVR\": \"Conversion Rate\",\n",
    "    \"MQL\": \"Marketing Qualified Lead\",\n",
    "    \"SQL\": \"Sales Qualified Lead\",\n",
    "    \"CQL\": \"Customer Qualified Lead\",\n",
    "    \"B2B\": \"Business To Business\",\n",
    "    \"B2C\": \"Business To Consumer\",\n",
    "    \"B2G\": \"Business To Government\",\n",
    "    \"C2C\": \"Consumer To Consumer\",\n",
    "    \"CMO\": \"Chief Marketing Officer\",\n",
    "    \"CEO\": \"Chief Executive Officer\",\n",
    "    \"CFO\": \"Chief Financial Officer\",\n",
    "    \"COO\": \"Chief Operating Officer\",\n",
    "    \"CTO\": \"Chief Technology Officer\",\n",
    "    \"CXO\": \"Chief Experience Officer\",\n",
    "    \"CSO\": \"Chief Sales Officer\",\n",
    "    \"CIO\": \"Chief Information Officer\"}\n",
    "\n",
    "def expand_acronyms(text):\n",
    "    for acronym, expanded in acronyms.items():\n",
    "        text = text.replace(acronym, expanded)\n",
    "    return text\n",
    "\n",
    "# e. Lemmatization\n",
    "def lemmatize_text(text):\n",
    "    lemmatized_tokens = [lemmatizer.lemmatize(word, wordnet.VERB) for word in text.split()]\n",
    "    return ' '.join(lemmatized_tokens)\n",
    "\n",
    "# f. Text Normalizer\n",
    "def normalize_text(text):\n",
    "    text = remove_accented_chars(text)\n",
    "    text = expand_acronyms(text)\n",
    "    return text\n",
    "\n",
    "\n",
    "df_rating_review['cleaned_review'] = df_rating_review['reviewText'].apply(normalize_text)"
   ]
  },
  {
   "cell_type": "code",
   "execution_count": 19,
   "metadata": {},
   "outputs": [],
   "source": [
    "import re\n",
    "import nltk\n",
    "from nltk.corpus import stopwords\n",
    "def cleaning(data):\n",
    "    corpus = []\n",
    "    for i in range(0, len(data)):\n",
    "        sentence = re.sub('[^a-zA-Z]', ' ', str(data[i])) # d. Removing Special Characters\n",
    "        sentence = sentence.lower() # Lowering the text\n",
    "        sentence = sentence.split() # Tokenization\n",
    "        \n",
    "        # Remove blank space tokens\n",
    "        sentence = [word for word in sentence if word.strip()]  # Removes empty strings\n",
    "        \n",
    "        all_stopwords = stopwords.words('english') # Removing the stopwords\n",
    "        #all_stopwords.remove('not')\n",
    "        # e. Lemmatization\n",
    "        sentence = [lemmatizer.lemmatize(word) for word in sentence if not word in set(all_stopwords)]\n",
    "        sentence = ' '.join(sentence)\n",
    "        corpus.append(sentence)\n",
    "      \n",
    "    return corpus"
   ]
  },
  {
   "cell_type": "code",
   "execution_count": 20,
   "metadata": {},
   "outputs": [
    {
     "data": {
      "text/html": [
       "<div>\n",
       "<style scoped>\n",
       "    .dataframe tbody tr th:only-of-type {\n",
       "        vertical-align: middle;\n",
       "    }\n",
       "\n",
       "    .dataframe tbody tr th {\n",
       "        vertical-align: top;\n",
       "    }\n",
       "\n",
       "    .dataframe thead th {\n",
       "        text-align: right;\n",
       "    }\n",
       "</style>\n",
       "<table border=\"1\" class=\"dataframe\">\n",
       "  <thead>\n",
       "    <tr style=\"text-align: right;\">\n",
       "      <th></th>\n",
       "      <th>overall</th>\n",
       "      <th>reviewText</th>\n",
       "      <th>cleaned_review</th>\n",
       "    </tr>\n",
       "  </thead>\n",
       "  <tbody>\n",
       "    <tr>\n",
       "      <th>0</th>\n",
       "      <td>5.0</td>\n",
       "      <td>Great headphones. It's just the cord is too sh...</td>\n",
       "      <td>great headphone cord short</td>\n",
       "    </tr>\n",
       "    <tr>\n",
       "      <th>1</th>\n",
       "      <td>5.0</td>\n",
       "      <td>Really like these headphone.  Wanted something...</td>\n",
       "      <td>really like headphone wanted something office ...</td>\n",
       "    </tr>\n",
       "    <tr>\n",
       "      <th>2</th>\n",
       "      <td>1.0</td>\n",
       "      <td>Wire to headphone broke off in less than a mon...</td>\n",
       "      <td>wire headphone broke le month buy</td>\n",
       "    </tr>\n",
       "    <tr>\n",
       "      <th>3</th>\n",
       "      <td>3.0</td>\n",
       "      <td>Very good</td>\n",
       "      <td>good</td>\n",
       "    </tr>\n",
       "    <tr>\n",
       "      <th>4</th>\n",
       "      <td>1.0</td>\n",
       "      <td>Currently returning this product because the s...</td>\n",
       "      <td>currently returning product sound come speaker...</td>\n",
       "    </tr>\n",
       "  </tbody>\n",
       "</table>\n",
       "</div>"
      ],
      "text/plain": [
       "   overall                                         reviewText  \\\n",
       "0      5.0  Great headphones. It's just the cord is too sh...   \n",
       "1      5.0  Really like these headphone.  Wanted something...   \n",
       "2      1.0  Wire to headphone broke off in less than a mon...   \n",
       "3      3.0                                          Very good   \n",
       "4      1.0  Currently returning this product because the s...   \n",
       "\n",
       "                                      cleaned_review  \n",
       "0                         great headphone cord short  \n",
       "1  really like headphone wanted something office ...  \n",
       "2                  wire headphone broke le month buy  \n",
       "3                                               good  \n",
       "4  currently returning product sound come speaker...  "
      ]
     },
     "execution_count": 20,
     "metadata": {},
     "output_type": "execute_result"
    }
   ],
   "source": [
    "df_rating_review['cleaned_review'] =  cleaning(df_rating_review['cleaned_review'])\n",
    "df_rating_review.head()"
   ]
  },
  {
   "cell_type": "markdown",
   "metadata": {},
   "source": [
    "## 6. To extract relevant statistics, perform the following EDA -"
   ]
  },
  {
   "cell_type": "code",
   "execution_count": 21,
   "metadata": {},
   "outputs": [
    {
     "data": {
      "text/html": [
       "<div>\n",
       "<style scoped>\n",
       "    .dataframe tbody tr th:only-of-type {\n",
       "        vertical-align: middle;\n",
       "    }\n",
       "\n",
       "    .dataframe tbody tr th {\n",
       "        vertical-align: top;\n",
       "    }\n",
       "\n",
       "    .dataframe thead th {\n",
       "        text-align: right;\n",
       "    }\n",
       "</style>\n",
       "<table border=\"1\" class=\"dataframe\">\n",
       "  <thead>\n",
       "    <tr style=\"text-align: right;\">\n",
       "      <th></th>\n",
       "      <th>asin</th>\n",
       "      <th>overall</th>\n",
       "      <th>reviewText</th>\n",
       "      <th>style</th>\n",
       "      <th>reviewerID</th>\n",
       "      <th>unixReviewTime</th>\n",
       "      <th>brand</th>\n",
       "    </tr>\n",
       "  </thead>\n",
       "  <tbody>\n",
       "    <tr>\n",
       "      <th>0</th>\n",
       "      <td>4126895493</td>\n",
       "      <td>5.0</td>\n",
       "      <td>Great headphones. It's just the cord is too sh...</td>\n",
       "      <td>{'Color:': ' Blue W/Mic'}</td>\n",
       "      <td>A38RQFVQ1AKJQQ</td>\n",
       "      <td>1424563200</td>\n",
       "      <td>HeadGear</td>\n",
       "    </tr>\n",
       "    <tr>\n",
       "      <th>1</th>\n",
       "      <td>4126895493</td>\n",
       "      <td>5.0</td>\n",
       "      <td>Really like these headphone.  Wanted something...</td>\n",
       "      <td>{'Color:': ' Blue Zebra W/Mic'}</td>\n",
       "      <td>A299MRB9O6GWDE</td>\n",
       "      <td>1494201600</td>\n",
       "      <td>HeadGear</td>\n",
       "    </tr>\n",
       "    <tr>\n",
       "      <th>2</th>\n",
       "      <td>4126895493</td>\n",
       "      <td>1.0</td>\n",
       "      <td>Wire to headphone broke off in less than a mon...</td>\n",
       "      <td>{'Color:': ' Blue W/Mic'}</td>\n",
       "      <td>A3ACFC6DQQLIQT</td>\n",
       "      <td>1478304000</td>\n",
       "      <td>HeadGear</td>\n",
       "    </tr>\n",
       "    <tr>\n",
       "      <th>3</th>\n",
       "      <td>4126895493</td>\n",
       "      <td>3.0</td>\n",
       "      <td>Very good</td>\n",
       "      <td>{'Color:': ' Green'}</td>\n",
       "      <td>A36BC0YFDBNB5X</td>\n",
       "      <td>1474675200</td>\n",
       "      <td>HeadGear</td>\n",
       "    </tr>\n",
       "    <tr>\n",
       "      <th>4</th>\n",
       "      <td>4126895493</td>\n",
       "      <td>1.0</td>\n",
       "      <td>Currently returning this product because the s...</td>\n",
       "      <td>{'Color:': ' Violet Purple'}</td>\n",
       "      <td>A212PQ0HQPNNWM</td>\n",
       "      <td>1468713600</td>\n",
       "      <td>HeadGear</td>\n",
       "    </tr>\n",
       "  </tbody>\n",
       "</table>\n",
       "</div>"
      ],
      "text/plain": [
       "         asin  overall                                         reviewText  \\\n",
       "0  4126895493      5.0  Great headphones. It's just the cord is too sh...   \n",
       "1  4126895493      5.0  Really like these headphone.  Wanted something...   \n",
       "2  4126895493      1.0  Wire to headphone broke off in less than a mon...   \n",
       "3  4126895493      3.0                                          Very good   \n",
       "4  4126895493      1.0  Currently returning this product because the s...   \n",
       "\n",
       "                             style      reviewerID  unixReviewTime     brand  \n",
       "0        {'Color:': ' Blue W/Mic'}  A38RQFVQ1AKJQQ      1424563200  HeadGear  \n",
       "1  {'Color:': ' Blue Zebra W/Mic'}  A299MRB9O6GWDE      1494201600  HeadGear  \n",
       "2        {'Color:': ' Blue W/Mic'}  A3ACFC6DQQLIQT      1478304000  HeadGear  \n",
       "3             {'Color:': ' Green'}  A36BC0YFDBNB5X      1474675200  HeadGear  \n",
       "4     {'Color:': ' Violet Purple'}  A212PQ0HQPNNWM      1468713600  HeadGear  "
      ]
     },
     "execution_count": 21,
     "metadata": {},
     "output_type": "execute_result"
    }
   ],
   "source": [
    "df.head()"
   ]
  },
  {
   "cell_type": "code",
   "execution_count": 22,
   "metadata": {},
   "outputs": [
    {
     "data": {
      "text/plain": [
       "asin               0\n",
       "overall            0\n",
       "reviewText        96\n",
       "style              0\n",
       "reviewerID         0\n",
       "unixReviewTime     0\n",
       "brand              0\n",
       "dtype: int64"
      ]
     },
     "execution_count": 22,
     "metadata": {},
     "output_type": "execute_result"
    }
   ],
   "source": [
    "df.isnull().sum()"
   ]
  },
  {
   "cell_type": "code",
   "execution_count": 23,
   "metadata": {},
   "outputs": [],
   "source": [
    "df_brand = df[['asin', 'overall', 'reviewText', 'brand']]\n",
    "df_brand = df_brand.dropna()"
   ]
  },
  {
   "cell_type": "code",
   "execution_count": 24,
   "metadata": {},
   "outputs": [
    {
     "data": {
      "text/plain": [
       "asin          0\n",
       "overall       0\n",
       "reviewText    0\n",
       "brand         0\n",
       "dtype: int64"
      ]
     },
     "execution_count": 24,
     "metadata": {},
     "output_type": "execute_result"
    }
   ],
   "source": [
    "df_brand.isnull().sum()"
   ]
  },
  {
   "cell_type": "code",
   "execution_count": 25,
   "metadata": {},
   "outputs": [
    {
     "data": {
      "text/plain": [
       "3306"
      ]
     },
     "execution_count": 25,
     "metadata": {},
     "output_type": "execute_result"
    }
   ],
   "source": [
    "df_brand['brand'].nunique()"
   ]
  },
  {
   "cell_type": "code",
   "execution_count": 26,
   "metadata": {},
   "outputs": [
    {
     "name": "stdout",
     "output_type": "stream",
     "text": [
      "Top 20 most reviewed brands:\n"
     ]
    },
    {
     "data": {
      "text/plain": [
       "Sony              37455\n",
       "Sennheiser        22976\n",
       "Plantronics       11946\n",
       "Bose              11582\n",
       "Panasonic          8519\n",
       "Skullcandy         7897\n",
       "Mpow               7605\n",
       "JLAB               7513\n",
       "Roku               7469\n",
       "JVC                7114\n",
       "TaoTronics         7065\n",
       "Samsung            7060\n",
       "Audio-Technica     7056\n",
       "Philips            7051\n",
       "Koss               7002\n",
       "Kinivo             6444\n",
       "Apple              6372\n",
       "Etre Jeune         5969\n",
       "AmazonBasics       5897\n",
       "LG                 5695\n",
       "Name: brand, dtype: int64"
      ]
     },
     "execution_count": 26,
     "metadata": {},
     "output_type": "execute_result"
    }
   ],
   "source": [
    "# a. Top 20 most reviewed brands in Headphones\n",
    "print(\"Top 20 most reviewed brands:\")\n",
    "df_brand['brand'].value_counts().head(20)"
   ]
  },
  {
   "cell_type": "code",
   "execution_count": 27,
   "metadata": {},
   "outputs": [
    {
     "name": "stdout",
     "output_type": "stream",
     "text": [
      "Top 20 least reviewed brands:\n"
     ]
    },
    {
     "data": {
      "text/plain": [
       "Amphony                    5\n",
       "1 BY 1                     5\n",
       "SmartLife                  5\n",
       "Skoloo                     5\n",
       "TechElec                   5\n",
       "IFOXTEK                    5\n",
       "tech21                     5\n",
       "CZM Tech                   5\n",
       "California Cable Market    4\n",
       "SmartDisk                  4\n",
       "SOUND-SQUARED CO.          4\n",
       "YooZoo                     4\n",
       "Replug                     4\n",
       "DetectorPro                4\n",
       "NOIZY Brands               3\n",
       "DSI                        3\n",
       "Zelco Industries, Inc      3\n",
       "Fred & Friends             3\n",
       "Honda                      1\n",
       "Digital Antenna            1\n",
       "Name: brand, dtype: int64"
      ]
     },
     "execution_count": 27,
     "metadata": {},
     "output_type": "execute_result"
    }
   ],
   "source": [
    "# b. Top 20 least reviewed brands in Headphones\n",
    "print(\"Top 20 least reviewed brands:\")\n",
    "df_brand['brand'].value_counts().tail(20)"
   ]
  },
  {
   "cell_type": "code",
   "execution_count": 28,
   "metadata": {},
   "outputs": [
    {
     "name": "stdout",
     "output_type": "stream",
     "text": [
      "Most positively reviewed headphone brand: 4 in 1 Charger\n",
      "Average rating score: 5.0\n"
     ]
    }
   ],
   "source": [
    "# c. Which is the most positively reviewed ‘Headphone’\n",
    "brand_avg_rating = df.groupby('brand')['overall'].mean()\n",
    "most_positively_reviewed_brand = brand_avg_rating.idxmax()\n",
    "highest_avg_rating = brand_avg_rating.max()\n",
    "print(\"Most positively reviewed headphone brand:\", most_positively_reviewed_brand)\n",
    "print(\"Average rating score:\", highest_avg_rating)"
   ]
  },
  {
   "cell_type": "code",
   "execution_count": 29,
   "metadata": {},
   "outputs": [
    {
     "data": {
      "text/plain": [
       "review_year\n",
       "2014     93590\n",
       "2015    145260\n",
       "2016    143320\n",
       "2017     80955\n",
       "2018     32366\n",
       "dtype: int64"
      ]
     },
     "execution_count": 29,
     "metadata": {},
     "output_type": "execute_result"
    }
   ],
   "source": [
    "# d. Show the count of ratings for the product over 5 consecutive years.\n",
    "df['review_year'] = pd.to_datetime(df['unixReviewTime'], unit='s').dt.year\n",
    "\n",
    "df.groupby(df['review_year']).size().tail()\n"
   ]
  },
  {
   "cell_type": "code",
   "execution_count": null,
   "metadata": {},
   "outputs": [],
   "source": []
  }
 ],
 "metadata": {
  "kernelspec": {
   "display_name": "Python 3 (ipykernel)",
   "language": "python",
   "name": "python3"
  },
  "language_info": {
   "codemirror_mode": {
    "name": "ipython",
    "version": 3
   },
   "file_extension": ".py",
   "mimetype": "text/x-python",
   "name": "python",
   "nbconvert_exporter": "python",
   "pygments_lexer": "ipython3",
   "version": "3.7.13"
  }
 },
 "nbformat": 4,
 "nbformat_minor": 2
}
